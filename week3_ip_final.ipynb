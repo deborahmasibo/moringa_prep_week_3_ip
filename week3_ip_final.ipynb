{
 "cells": [
  {
   "cell_type": "markdown",
   "metadata": {},
   "source": [
    "# WEEK 3 IP\n",
    "\n"
   ]
  },
  {
   "cell_type": "markdown",
   "metadata": {},
   "source": [
    "## Importing Libraries"
   ]
  },
  {
   "cell_type": "code",
   "execution_count": 1,
   "metadata": {},
   "outputs": [],
   "source": [
    "# Imports\n",
    "\n",
    "import pandas as pd\n",
    "import numpy as np\n"
   ]
  },
  {
   "cell_type": "markdown",
   "metadata": {},
   "source": [
    "## Dataset Loading\n"
   ]
  },
  {
   "cell_type": "code",
   "execution_count": 2,
   "metadata": {},
   "outputs": [
    {
     "data": {
      "text/html": [
       "<div>\n",
       "<style scoped>\n",
       "    .dataframe tbody tr th:only-of-type {\n",
       "        vertical-align: middle;\n",
       "    }\n",
       "\n",
       "    .dataframe tbody tr th {\n",
       "        vertical-align: top;\n",
       "    }\n",
       "\n",
       "    .dataframe thead th {\n",
       "        text-align: right;\n",
       "    }\n",
       "</style>\n",
       "<table border=\"1\" class=\"dataframe\">\n",
       "  <thead>\n",
       "    <tr style=\"text-align: right;\">\n",
       "      <th></th>\n",
       "      <th>Column name</th>\n",
       "      <th>Description</th>\n",
       "      <th>Format</th>\n",
       "    </tr>\n",
       "  </thead>\n",
       "  <tbody>\n",
       "    <tr>\n",
       "      <th>0</th>\n",
       "      <td>PRODUCT</td>\n",
       "      <td>Voice or SMS</td>\n",
       "      <td>String</td>\n",
       "    </tr>\n",
       "    <tr>\n",
       "      <th>1</th>\n",
       "      <td>VALUE</td>\n",
       "      <td>Billing price</td>\n",
       "      <td>Integer</td>\n",
       "    </tr>\n",
       "    <tr>\n",
       "      <th>2</th>\n",
       "      <td>DATE_TIME</td>\n",
       "      <td>Time in format yyyy-MM-dd hh:mm:ss.0</td>\n",
       "      <td>String</td>\n",
       "    </tr>\n",
       "    <tr>\n",
       "      <th>3</th>\n",
       "      <td>CELL_ON_SITE</td>\n",
       "      <td>Which cell in the site was used (not needed here)</td>\n",
       "      <td>Integer</td>\n",
       "    </tr>\n",
       "    <tr>\n",
       "      <th>4</th>\n",
       "      <td>DW_A_NUMBER_INT</td>\n",
       "      <td>Anonymized phone number of the person for whic...</td>\n",
       "      <td>String</td>\n",
       "    </tr>\n",
       "  </tbody>\n",
       "</table>\n",
       "</div>"
      ],
      "text/plain": [
       "       Column name                                        Description   Format\n",
       "0          PRODUCT                                       Voice or SMS   String\n",
       "1            VALUE                                      Billing price  Integer\n",
       "2        DATE_TIME               Time in format yyyy-MM-dd hh:mm:ss.0   String\n",
       "3     CELL_ON_SITE  Which cell in the site was used (not needed here)  Integer\n",
       "4  DW_A_NUMBER_INT  Anonymized phone number of the person for whic...   String"
      ]
     },
     "execution_count": 2,
     "metadata": {},
     "output_type": "execute_result"
    }
   ],
   "source": [
    "# Creating CDR DataFrame\n",
    "cdr = pd.read_excel('CDR_description.xlsx')\n",
    "cdr.head()\n",
    "\n"
   ]
  },
  {
   "cell_type": "code",
   "execution_count": 119,
   "metadata": {},
   "outputs": [
    {
     "data": {
      "text/html": [
       "<div>\n",
       "<style scoped>\n",
       "    .dataframe tbody tr th:only-of-type {\n",
       "        vertical-align: middle;\n",
       "    }\n",
       "\n",
       "    .dataframe tbody tr th {\n",
       "        vertical-align: top;\n",
       "    }\n",
       "\n",
       "    .dataframe thead th {\n",
       "        text-align: right;\n",
       "    }\n",
       "</style>\n",
       "<table border=\"1\" class=\"dataframe\">\n",
       "  <thead>\n",
       "    <tr style=\"text-align: right;\">\n",
       "      <th></th>\n",
       "      <th>Column name</th>\n",
       "      <th>Description</th>\n",
       "      <th>Format</th>\n",
       "    </tr>\n",
       "  </thead>\n",
       "  <tbody>\n",
       "    <tr>\n",
       "      <th>0</th>\n",
       "      <td>VILLES</td>\n",
       "      <td>City</td>\n",
       "      <td>String</td>\n",
       "    </tr>\n",
       "    <tr>\n",
       "      <th>1</th>\n",
       "      <td>STATUS</td>\n",
       "      <td>In Service or not</td>\n",
       "      <td>String</td>\n",
       "    </tr>\n",
       "    <tr>\n",
       "      <th>2</th>\n",
       "      <td>LOCALISATION</td>\n",
       "      <td>in ABIDJAN or not</td>\n",
       "      <td>String</td>\n",
       "    </tr>\n",
       "    <tr>\n",
       "      <th>3</th>\n",
       "      <td>DECOUPZONE</td>\n",
       "      <td>Geographical Zone</td>\n",
       "      <td>String</td>\n",
       "    </tr>\n",
       "    <tr>\n",
       "      <th>4</th>\n",
       "      <td>ZONENAME</td>\n",
       "      <td>Name of Zone</td>\n",
       "      <td>String</td>\n",
       "    </tr>\n",
       "    <tr>\n",
       "      <th>5</th>\n",
       "      <td>LONGITUDE</td>\n",
       "      <td>Longitude</td>\n",
       "      <td>Float</td>\n",
       "    </tr>\n",
       "    <tr>\n",
       "      <th>6</th>\n",
       "      <td>LATITUDE</td>\n",
       "      <td>Latitude</td>\n",
       "      <td>Float</td>\n",
       "    </tr>\n",
       "    <tr>\n",
       "      <th>7</th>\n",
       "      <td>REGION</td>\n",
       "      <td>Region</td>\n",
       "      <td>String</td>\n",
       "    </tr>\n",
       "    <tr>\n",
       "      <th>8</th>\n",
       "      <td>AREA</td>\n",
       "      <td>Area</td>\n",
       "      <td>String</td>\n",
       "    </tr>\n",
       "    <tr>\n",
       "      <th>9</th>\n",
       "      <td>CELL_ID</td>\n",
       "      <td>ID of the cell</td>\n",
       "      <td>String</td>\n",
       "    </tr>\n",
       "    <tr>\n",
       "      <th>10</th>\n",
       "      <td>SITE_CODE</td>\n",
       "      <td>Site (there are several cells per site, severa...</td>\n",
       "      <td>String</td>\n",
       "    </tr>\n",
       "  </tbody>\n",
       "</table>\n",
       "</div>"
      ],
      "text/plain": [
       "     Column name                                        Description  Format\n",
       "0         VILLES                                               City  String\n",
       "1         STATUS                                  In Service or not  String\n",
       "2   LOCALISATION                                  in ABIDJAN or not  String\n",
       "3     DECOUPZONE                                  Geographical Zone  String\n",
       "4       ZONENAME                                       Name of Zone  String\n",
       "5      LONGITUDE                                          Longitude   Float\n",
       "6       LATITUDE                                           Latitude   Float\n",
       "7         REGION                                             Region  String\n",
       "8           AREA                                               Area  String\n",
       "9        CELL_ID                                     ID of the cell  String\n",
       "10     SITE_CODE  Site (there are several cells per site, severa...  String"
      ]
     },
     "execution_count": 119,
     "metadata": {},
     "output_type": "execute_result"
    }
   ],
   "source": [
    "# Creating cells geo description DataFrame\n",
    "cells_desc = pd.read_excel('cells_geo_description.xlsx')\n",
    "cells_desc\n"
   ]
  },
  {
   "cell_type": "code",
   "execution_count": 439,
   "metadata": {},
   "outputs": [
    {
     "data": {
      "text/html": [
       "<div>\n",
       "<style scoped>\n",
       "    .dataframe tbody tr th:only-of-type {\n",
       "        vertical-align: middle;\n",
       "    }\n",
       "\n",
       "    .dataframe tbody tr th {\n",
       "        vertical-align: top;\n",
       "    }\n",
       "\n",
       "    .dataframe thead th {\n",
       "        text-align: right;\n",
       "    }\n",
       "</style>\n",
       "<table border=\"1\" class=\"dataframe\">\n",
       "  <thead>\n",
       "    <tr style=\"text-align: right;\">\n",
       "      <th></th>\n",
       "      <th>VILLES</th>\n",
       "      <th>STATUS</th>\n",
       "      <th>LOCALISATION</th>\n",
       "      <th>DECOUPZONE</th>\n",
       "      <th>ZONENAME</th>\n",
       "      <th>LONGITUDE</th>\n",
       "      <th>LATITUDE</th>\n",
       "      <th>REGION</th>\n",
       "      <th>AREA</th>\n",
       "      <th>CELL_ID</th>\n",
       "      <th>SITE_CODE</th>\n",
       "    </tr>\n",
       "  </thead>\n",
       "  <tbody>\n",
       "    <tr>\n",
       "      <th>0</th>\n",
       "      <td>ADJAME</td>\n",
       "      <td>In Service</td>\n",
       "      <td>ABIDJAN</td>\n",
       "      <td>\"Abidjan_EST</td>\n",
       "      <td>AGBANNEW</td>\n",
       "      <td>-4.000667</td>\n",
       "      <td>5.368194</td>\n",
       "      <td>LAGUNE</td>\n",
       "      <td>NaN</td>\n",
       "      <td>fbb2e75af3</td>\n",
       "      <td>0bb492ef17</td>\n",
       "    </tr>\n",
       "    <tr>\n",
       "      <th>1</th>\n",
       "      <td>ADJAME</td>\n",
       "      <td>In Service</td>\n",
       "      <td>ABIDJAN</td>\n",
       "      <td>\"Abidjan_EST</td>\n",
       "      <td>AGBANNEW</td>\n",
       "      <td>-4.000667</td>\n",
       "      <td>5.368194</td>\n",
       "      <td>LAGUNE</td>\n",
       "      <td>NaN</td>\n",
       "      <td>1502501d78</td>\n",
       "      <td>0bb492ef17</td>\n",
       "    </tr>\n",
       "    <tr>\n",
       "      <th>2</th>\n",
       "      <td>ADJAME</td>\n",
       "      <td>In Service</td>\n",
       "      <td>ABIDJAN</td>\n",
       "      <td>\"Abidjan_EST</td>\n",
       "      <td>AGBANNEW</td>\n",
       "      <td>-4.000667</td>\n",
       "      <td>5.368194</td>\n",
       "      <td>LAGUNE</td>\n",
       "      <td>NaN</td>\n",
       "      <td>0c2e182a0c</td>\n",
       "      <td>0bb492ef17</td>\n",
       "    </tr>\n",
       "    <tr>\n",
       "      <th>3</th>\n",
       "      <td>ASSINIE</td>\n",
       "      <td>In Service</td>\n",
       "      <td>INTERIEUR</td>\n",
       "      <td>Grand-EST</td>\n",
       "      <td>ASSINIE\"</td>\n",
       "      <td>-3.488467</td>\n",
       "      <td>5.158761</td>\n",
       "      <td>SUD COMOE</td>\n",
       "      <td>NaN</td>\n",
       "      <td>69bdfc69fd</td>\n",
       "      <td>8a1e6ce31f</td>\n",
       "    </tr>\n",
       "    <tr>\n",
       "      <th>4</th>\n",
       "      <td>ASSINIE</td>\n",
       "      <td>In Service</td>\n",
       "      <td>INTERIEUR</td>\n",
       "      <td>Grand-EST</td>\n",
       "      <td>ASSINIE\"</td>\n",
       "      <td>-3.488467</td>\n",
       "      <td>5.158761</td>\n",
       "      <td>SUD COMOE</td>\n",
       "      <td>NaN</td>\n",
       "      <td>7a1029d2ab</td>\n",
       "      <td>8a1e6ce31f</td>\n",
       "    </tr>\n",
       "  </tbody>\n",
       "</table>\n",
       "</div>"
      ],
      "text/plain": [
       "    VILLES      STATUS LOCALISATION    DECOUPZONE  ZONENAME  LONGITUDE  \\\n",
       "0   ADJAME  In Service      ABIDJAN  \"Abidjan_EST  AGBANNEW  -4.000667   \n",
       "1   ADJAME  In Service      ABIDJAN  \"Abidjan_EST  AGBANNEW  -4.000667   \n",
       "2   ADJAME  In Service      ABIDJAN  \"Abidjan_EST  AGBANNEW  -4.000667   \n",
       "3  ASSINIE  In Service    INTERIEUR     Grand-EST  ASSINIE\"  -3.488467   \n",
       "4  ASSINIE  In Service    INTERIEUR     Grand-EST  ASSINIE\"  -3.488467   \n",
       "\n",
       "   LATITUDE     REGION AREA     CELL_ID   SITE_CODE  \n",
       "0  5.368194     LAGUNE  NaN  fbb2e75af3  0bb492ef17  \n",
       "1  5.368194     LAGUNE  NaN  1502501d78  0bb492ef17  \n",
       "2  5.368194     LAGUNE  NaN  0c2e182a0c  0bb492ef17  \n",
       "3  5.158761  SUD COMOE  NaN  69bdfc69fd  8a1e6ce31f  \n",
       "4  5.158761  SUD COMOE  NaN  7a1029d2ab  8a1e6ce31f  "
      ]
     },
     "execution_count": 439,
     "metadata": {},
     "output_type": "execute_result"
    }
   ],
   "source": [
    "# Creating cells geo DataFrame\n",
    "cells_geo = pd.read_csv('cells_geo.csv',sep =\";\", index_col= 0) #index_col = 0 to remove unnamed column\n",
    "cells_geo.head()\n"
   ]
  },
  {
   "cell_type": "code",
   "execution_count": 28,
   "metadata": {},
   "outputs": [
    {
     "data": {
      "text/html": [
       "<div>\n",
       "<style scoped>\n",
       "    .dataframe tbody tr th:only-of-type {\n",
       "        vertical-align: middle;\n",
       "    }\n",
       "\n",
       "    .dataframe tbody tr th {\n",
       "        vertical-align: top;\n",
       "    }\n",
       "\n",
       "    .dataframe thead th {\n",
       "        text-align: right;\n",
       "    }\n",
       "</style>\n",
       "<table border=\"1\" class=\"dataframe\">\n",
       "  <thead>\n",
       "    <tr style=\"text-align: right;\">\n",
       "      <th></th>\n",
       "      <th>PRODUTC</th>\n",
       "      <th>VALUE</th>\n",
       "      <th>DATETIME</th>\n",
       "      <th>CELL_ON_SITE</th>\n",
       "      <th>DW_A_NUMBER_INT</th>\n",
       "      <th>DW_B_NUMBER_INT</th>\n",
       "      <th>COUNTRY_A</th>\n",
       "      <th>COUNTRY_B</th>\n",
       "      <th>CELL_ID</th>\n",
       "      <th>SITE_ID</th>\n",
       "    </tr>\n",
       "  </thead>\n",
       "  <tbody>\n",
       "    <tr>\n",
       "      <th>0</th>\n",
       "      <td>Voice</td>\n",
       "      <td>0</td>\n",
       "      <td>2012-05-06 23:04:37.0</td>\n",
       "      <td>1</td>\n",
       "      <td>49fae048b547780</td>\n",
       "      <td>1a49f8b0ded9de6</td>\n",
       "      <td>19e2e</td>\n",
       "      <td>19e2e</td>\n",
       "      <td>/TJNe+Mmtu</td>\n",
       "      <td>/TJNe+Mmtu</td>\n",
       "    </tr>\n",
       "    <tr>\n",
       "      <th>1</th>\n",
       "      <td>sms</td>\n",
       "      <td>0</td>\n",
       "      <td>2012-05-06 23:05:25.0</td>\n",
       "      <td>0</td>\n",
       "      <td>7a54a6eaee19e65</td>\n",
       "      <td>93343ba6e41af95</td>\n",
       "      <td>19e2e</td>\n",
       "      <td>19e2e</td>\n",
       "      <td>/+cKZKIp41</td>\n",
       "      <td>/+cKZKIp41</td>\n",
       "    </tr>\n",
       "    <tr>\n",
       "      <th>2</th>\n",
       "      <td>sms</td>\n",
       "      <td>25</td>\n",
       "      <td>2012-05-06 23:05:41.0</td>\n",
       "      <td>0</td>\n",
       "      <td>6008887b0207d82</td>\n",
       "      <td>7aacc9709ce0a20</td>\n",
       "      <td>19e2e</td>\n",
       "      <td>19e2e</td>\n",
       "      <td>/u0FSD+ahi</td>\n",
       "      <td>/u0FSD+ahi</td>\n",
       "    </tr>\n",
       "    <tr>\n",
       "      <th>3</th>\n",
       "      <td>Voice</td>\n",
       "      <td>56</td>\n",
       "      <td>2012-05-06 23:05:42.0</td>\n",
       "      <td>1</td>\n",
       "      <td>7370032e20f4e96</td>\n",
       "      <td>6af4a60e74c91d3</td>\n",
       "      <td>19e2e</td>\n",
       "      <td>19e2e</td>\n",
       "      <td>+cNeJzsTp3</td>\n",
       "      <td>+cNeJzsTp3</td>\n",
       "    </tr>\n",
       "    <tr>\n",
       "      <th>4</th>\n",
       "      <td>Voice</td>\n",
       "      <td>14</td>\n",
       "      <td>2012-05-06 23:06:29.0</td>\n",
       "      <td>1</td>\n",
       "      <td>966ba4656e38e62</td>\n",
       "      <td>02aa736ee555d5c</td>\n",
       "      <td>19e2e</td>\n",
       "      <td>19e2e</td>\n",
       "      <td>051KhYDCpv</td>\n",
       "      <td>051KhYDCpv</td>\n",
       "    </tr>\n",
       "  </tbody>\n",
       "</table>\n",
       "</div>"
      ],
      "text/plain": [
       "  PRODUTC  VALUE               DATETIME CELL_ON_SITE  DW_A_NUMBER_INT  \\\n",
       "0   Voice      0  2012-05-06 23:04:37.0            1  49fae048b547780   \n",
       "1     sms      0  2012-05-06 23:05:25.0            0  7a54a6eaee19e65   \n",
       "2     sms     25  2012-05-06 23:05:41.0            0  6008887b0207d82   \n",
       "3   Voice     56  2012-05-06 23:05:42.0            1  7370032e20f4e96   \n",
       "4   Voice     14  2012-05-06 23:06:29.0            1  966ba4656e38e62   \n",
       "\n",
       "   DW_B_NUMBER_INT COUNTRY_A COUNTRY_B     CELL_ID     SITE_ID  \n",
       "0  1a49f8b0ded9de6     19e2e     19e2e  /TJNe+Mmtu  /TJNe+Mmtu  \n",
       "1  93343ba6e41af95     19e2e     19e2e  /+cKZKIp41  /+cKZKIp41  \n",
       "2  7aacc9709ce0a20     19e2e     19e2e  /u0FSD+ahi  /u0FSD+ahi  \n",
       "3  6af4a60e74c91d3     19e2e     19e2e  +cNeJzsTp3  +cNeJzsTp3  \n",
       "4  02aa736ee555d5c     19e2e     19e2e  051KhYDCpv  051KhYDCpv  "
      ]
     },
     "execution_count": 28,
     "metadata": {},
     "output_type": "execute_result"
    }
   ],
   "source": [
    "# Creating Telcom 1 DataFrame\n",
    "telcom1 = pd.read_csv('Telcom_dataset.csv')\n",
    "telcom1.head()\n",
    "\n"
   ]
  },
  {
   "cell_type": "code",
   "execution_count": 22,
   "metadata": {},
   "outputs": [
    {
     "data": {
      "text/html": [
       "<div>\n",
       "<style scoped>\n",
       "    .dataframe tbody tr th:only-of-type {\n",
       "        vertical-align: middle;\n",
       "    }\n",
       "\n",
       "    .dataframe tbody tr th {\n",
       "        vertical-align: top;\n",
       "    }\n",
       "\n",
       "    .dataframe thead th {\n",
       "        text-align: right;\n",
       "    }\n",
       "</style>\n",
       "<table border=\"1\" class=\"dataframe\">\n",
       "  <thead>\n",
       "    <tr style=\"text-align: right;\">\n",
       "      <th></th>\n",
       "      <th>PRODUCT</th>\n",
       "      <th>VALUE</th>\n",
       "      <th>DATE_TIME</th>\n",
       "      <th>CELL_ON_SITE</th>\n",
       "      <th>DW_A_NUMBER</th>\n",
       "      <th>DW_B_NUMBER</th>\n",
       "      <th>COUNTRY_A</th>\n",
       "      <th>COUNTRY_B</th>\n",
       "      <th>CELL_ID</th>\n",
       "      <th>SITE_ID</th>\n",
       "    </tr>\n",
       "  </thead>\n",
       "  <tbody>\n",
       "    <tr>\n",
       "      <th>0</th>\n",
       "      <td>sms</td>\n",
       "      <td>0</td>\n",
       "      <td>2012-05-07 23:02:06.0</td>\n",
       "      <td>2</td>\n",
       "      <td>32255675c3b6fe3</td>\n",
       "      <td>1aa7ae01386e9fb</td>\n",
       "      <td>19e2e</td>\n",
       "      <td>19e2e</td>\n",
       "      <td>+854AcBQT2</td>\n",
       "      <td>+854AcBQT2</td>\n",
       "    </tr>\n",
       "    <tr>\n",
       "      <th>1</th>\n",
       "      <td>Voice</td>\n",
       "      <td>0</td>\n",
       "      <td>2012-05-07 23:03:44.0</td>\n",
       "      <td>1</td>\n",
       "      <td>ff16d6ac74c1c64</td>\n",
       "      <td>87d87309c15a8c9</td>\n",
       "      <td>19e2e</td>\n",
       "      <td>19e2e</td>\n",
       "      <td>+854AcBQT2</td>\n",
       "      <td>+854AcBQT2</td>\n",
       "    </tr>\n",
       "    <tr>\n",
       "      <th>2</th>\n",
       "      <td>sms</td>\n",
       "      <td>0</td>\n",
       "      <td>2012-05-07 23:04:06.0</td>\n",
       "      <td>0</td>\n",
       "      <td>98d9f2fb5ff624b</td>\n",
       "      <td>93343ba6e41af95</td>\n",
       "      <td>19e2e</td>\n",
       "      <td>19e2e</td>\n",
       "      <td>+laSrk7g6q</td>\n",
       "      <td>+laSrk7g6q</td>\n",
       "    </tr>\n",
       "    <tr>\n",
       "      <th>3</th>\n",
       "      <td>Voice</td>\n",
       "      <td>37</td>\n",
       "      <td>2012-05-07 23:04:48.0</td>\n",
       "      <td>1</td>\n",
       "      <td>3f9c8a33ec7be1f</td>\n",
       "      <td>7d05a38f89c49d8</td>\n",
       "      <td>19e2e</td>\n",
       "      <td>19e2e</td>\n",
       "      <td>/xvRrCVKoQ</td>\n",
       "      <td>/xvRrCVKoQ</td>\n",
       "    </tr>\n",
       "    <tr>\n",
       "      <th>4</th>\n",
       "      <td>sms</td>\n",
       "      <td>25</td>\n",
       "      <td>2012-05-07 23:04:58.0</td>\n",
       "      <td>1</td>\n",
       "      <td>7bcccc03adf3864</td>\n",
       "      <td>56a5d5430d2fa86</td>\n",
       "      <td>19e2e</td>\n",
       "      <td>19e2e</td>\n",
       "      <td>+bO+qkSonO</td>\n",
       "      <td>+bO+qkSonO</td>\n",
       "    </tr>\n",
       "  </tbody>\n",
       "</table>\n",
       "</div>"
      ],
      "text/plain": [
       "  PRODUCT  VALUE              DATE_TIME CELL_ON_SITE      DW_A_NUMBER  \\\n",
       "0     sms      0  2012-05-07 23:02:06.0            2  32255675c3b6fe3   \n",
       "1   Voice      0  2012-05-07 23:03:44.0            1  ff16d6ac74c1c64   \n",
       "2     sms      0  2012-05-07 23:04:06.0            0  98d9f2fb5ff624b   \n",
       "3   Voice     37  2012-05-07 23:04:48.0            1  3f9c8a33ec7be1f   \n",
       "4     sms     25  2012-05-07 23:04:58.0            1  7bcccc03adf3864   \n",
       "\n",
       "       DW_B_NUMBER COUNTRY_A COUNTRY_B     CELL_ID     SITE_ID  \n",
       "0  1aa7ae01386e9fb     19e2e     19e2e  +854AcBQT2  +854AcBQT2  \n",
       "1  87d87309c15a8c9     19e2e     19e2e  +854AcBQT2  +854AcBQT2  \n",
       "2  93343ba6e41af95     19e2e     19e2e  +laSrk7g6q  +laSrk7g6q  \n",
       "3  7d05a38f89c49d8     19e2e     19e2e  /xvRrCVKoQ  /xvRrCVKoQ  \n",
       "4  56a5d5430d2fa86     19e2e     19e2e  +bO+qkSonO  +bO+qkSonO  "
      ]
     },
     "execution_count": 22,
     "metadata": {},
     "output_type": "execute_result"
    }
   ],
   "source": [
    "# Creating Telcom 2 DataFrame\n",
    "telcom2 = pd.read_csv('Telcom_dataset2.csv')\n",
    "telcom2.head()\n"
   ]
  },
  {
   "cell_type": "code",
   "execution_count": 7,
   "metadata": {},
   "outputs": [
    {
     "data": {
      "text/html": [
       "<div>\n",
       "<style scoped>\n",
       "    .dataframe tbody tr th:only-of-type {\n",
       "        vertical-align: middle;\n",
       "    }\n",
       "\n",
       "    .dataframe tbody tr th {\n",
       "        vertical-align: top;\n",
       "    }\n",
       "\n",
       "    .dataframe thead th {\n",
       "        text-align: right;\n",
       "    }\n",
       "</style>\n",
       "<table border=\"1\" class=\"dataframe\">\n",
       "  <thead>\n",
       "    <tr style=\"text-align: right;\">\n",
       "      <th></th>\n",
       "      <th>PRODUCT</th>\n",
       "      <th>VALUE</th>\n",
       "      <th>DATE_TIME</th>\n",
       "      <th>CELL_ON_SITE</th>\n",
       "      <th>DW_A_NUMBER_INT</th>\n",
       "      <th>DW_B_NUMBER_INT</th>\n",
       "      <th>COUNTRY_A</th>\n",
       "      <th>COUNTRY_B</th>\n",
       "      <th>CELLID</th>\n",
       "      <th>SIET_ID</th>\n",
       "    </tr>\n",
       "  </thead>\n",
       "  <tbody>\n",
       "    <tr>\n",
       "      <th>0</th>\n",
       "      <td>Voice</td>\n",
       "      <td>61</td>\n",
       "      <td>2012-05-08 23:01:28.0</td>\n",
       "      <td>2</td>\n",
       "      <td>966f68353622feb</td>\n",
       "      <td>ffd53a3bb2db6f1</td>\n",
       "      <td>19e2e</td>\n",
       "      <td>19e2e</td>\n",
       "      <td>+38u2u/rfx</td>\n",
       "      <td>+38u2u/rfx</td>\n",
       "    </tr>\n",
       "    <tr>\n",
       "      <th>1</th>\n",
       "      <td>sms</td>\n",
       "      <td>0</td>\n",
       "      <td>2012-05-08 23:01:31.0</td>\n",
       "      <td>1</td>\n",
       "      <td>a0a597384c612d7</td>\n",
       "      <td>cf3b218f1dde792</td>\n",
       "      <td>19e2e</td>\n",
       "      <td>19e2e</td>\n",
       "      <td>+Fs4mTvdKx</td>\n",
       "      <td>+Fs4mTvdKx</td>\n",
       "    </tr>\n",
       "    <tr>\n",
       "      <th>2</th>\n",
       "      <td>Voice</td>\n",
       "      <td>10</td>\n",
       "      <td>2012-05-08 23:02:59.0</td>\n",
       "      <td>1</td>\n",
       "      <td>5441a9a58c97132</td>\n",
       "      <td>52f8b299515b9b7</td>\n",
       "      <td>19e2e</td>\n",
       "      <td>19e2e</td>\n",
       "      <td>+ZaaZozy/+</td>\n",
       "      <td>+ZaaZozy/+</td>\n",
       "    </tr>\n",
       "    <tr>\n",
       "      <th>3</th>\n",
       "      <td>sms</td>\n",
       "      <td>0</td>\n",
       "      <td>2012-05-08 23:03:04.0</td>\n",
       "      <td>0</td>\n",
       "      <td>8ab8b9ed6989f61</td>\n",
       "      <td>e09e736e46c5c3d</td>\n",
       "      <td>19e2e</td>\n",
       "      <td>19e2e</td>\n",
       "      <td>+cNeJzsTp3</td>\n",
       "      <td>+cNeJzsTp3</td>\n",
       "    </tr>\n",
       "    <tr>\n",
       "      <th>4</th>\n",
       "      <td>Voice</td>\n",
       "      <td>22</td>\n",
       "      <td>2012-05-08 23:03:16.0</td>\n",
       "      <td>4</td>\n",
       "      <td>52662a62b199334</td>\n",
       "      <td>2186273faab4602</td>\n",
       "      <td>19e2e</td>\n",
       "      <td>19e2e</td>\n",
       "      <td>/eeMklgyJA</td>\n",
       "      <td>/eeMklgyJA</td>\n",
       "    </tr>\n",
       "  </tbody>\n",
       "</table>\n",
       "</div>"
      ],
      "text/plain": [
       "  PRODUCT  VALUE              DATE_TIME CELL_ON_SITE  DW_A_NUMBER_INT  \\\n",
       "0   Voice     61  2012-05-08 23:01:28.0            2  966f68353622feb   \n",
       "1     sms      0  2012-05-08 23:01:31.0            1  a0a597384c612d7   \n",
       "2   Voice     10  2012-05-08 23:02:59.0            1  5441a9a58c97132   \n",
       "3     sms      0  2012-05-08 23:03:04.0            0  8ab8b9ed6989f61   \n",
       "4   Voice     22  2012-05-08 23:03:16.0            4  52662a62b199334   \n",
       "\n",
       "   DW_B_NUMBER_INT COUNTRY_A COUNTRY_B      CELLID     SIET_ID  \n",
       "0  ffd53a3bb2db6f1     19e2e     19e2e  +38u2u/rfx  +38u2u/rfx  \n",
       "1  cf3b218f1dde792     19e2e     19e2e  +Fs4mTvdKx  +Fs4mTvdKx  \n",
       "2  52f8b299515b9b7     19e2e     19e2e  +ZaaZozy/+  +ZaaZozy/+  \n",
       "3  e09e736e46c5c3d     19e2e     19e2e  +cNeJzsTp3  +cNeJzsTp3  \n",
       "4  2186273faab4602     19e2e     19e2e  /eeMklgyJA  /eeMklgyJA  "
      ]
     },
     "execution_count": 7,
     "metadata": {},
     "output_type": "execute_result"
    }
   ],
   "source": [
    "# Creating Telcom 1 DataFrame\n",
    "telcom3 = pd.read_csv('Telcom_dataset3.csv')\n",
    "telcom3.head()"
   ]
  },
  {
   "cell_type": "markdown",
   "metadata": {},
   "source": [
    "## Data Exploration and Cleaning"
   ]
  },
  {
   "cell_type": "markdown",
   "metadata": {},
   "source": [
    "### Telcom1"
   ]
  },
  {
   "cell_type": "code",
   "execution_count": 29,
   "metadata": {},
   "outputs": [
    {
     "name": "stdout",
     "output_type": "stream",
     "text": [
      "<class 'pandas.core.frame.DataFrame'>\n",
      "RangeIndex: 5001 entries, 0 to 5000\n",
      "Data columns (total 10 columns):\n",
      " #   Column           Non-Null Count  Dtype \n",
      "---  ------           --------------  ----- \n",
      " 0   PRODUTC          5001 non-null   object\n",
      " 1   VALUE            5001 non-null   int64 \n",
      " 2   DATETIME         5001 non-null   object\n",
      " 3   CELL_ON_SITE     5001 non-null   object\n",
      " 4   DW_A_NUMBER_INT  5001 non-null   object\n",
      " 5   DW_B_NUMBER_INT  5001 non-null   object\n",
      " 6   COUNTRY_A        5001 non-null   object\n",
      " 7   COUNTRY_B        5001 non-null   object\n",
      " 8   CELL_ID          5001 non-null   object\n",
      " 9   SITE_ID          4285 non-null   object\n",
      "dtypes: int64(1), object(9)\n",
      "memory usage: 390.8+ KB\n"
     ]
    }
   ],
   "source": [
    "# Telcom 1 \n",
    "telcom1.info()"
   ]
  },
  {
   "cell_type": "code",
   "execution_count": 30,
   "metadata": {},
   "outputs": [],
   "source": [
    "# Dropping nan values\n",
    "telcom1.dropna(inplace=True)"
   ]
  },
  {
   "cell_type": "code",
   "execution_count": 35,
   "metadata": {},
   "outputs": [],
   "source": [
    "# Checking for, and removing duplicates.\n",
    "telcom1.duplicated().any().any() # True\n",
    "telcom1.drop_duplicates(inplace=True)"
   ]
  },
  {
   "cell_type": "code",
   "execution_count": 36,
   "metadata": {},
   "outputs": [
    {
     "name": "stdout",
     "output_type": "stream",
     "text": [
      "<class 'pandas.core.frame.DataFrame'>\n",
      "Int64Index: 4215 entries, 0 to 5000\n",
      "Data columns (total 10 columns):\n",
      " #   Column           Non-Null Count  Dtype \n",
      "---  ------           --------------  ----- \n",
      " 0   PRODUTC          4215 non-null   object\n",
      " 1   VALUE            4215 non-null   int64 \n",
      " 2   DATETIME         4215 non-null   object\n",
      " 3   CELL_ON_SITE     4215 non-null   object\n",
      " 4   DW_A_NUMBER_INT  4215 non-null   object\n",
      " 5   DW_B_NUMBER_INT  4215 non-null   object\n",
      " 6   COUNTRY_A        4215 non-null   object\n",
      " 7   COUNTRY_B        4215 non-null   object\n",
      " 8   CELL_ID          4215 non-null   object\n",
      " 9   SITE_ID          4215 non-null   object\n",
      "dtypes: int64(1), object(9)\n",
      "memory usage: 362.2+ KB\n"
     ]
    }
   ],
   "source": [
    "# Check changes\n",
    "telcom1.info()"
   ]
  },
  {
   "cell_type": "code",
   "execution_count": 56,
   "metadata": {},
   "outputs": [
    {
     "data": {
      "text/plain": [
       "Index(['PRODUCT', 'VALUE', 'DATE_TIME', 'CELL_ON_SITE', 'DW_A_NUMBER_INT',\n",
       "       'DW_B_NUMBER_INT', 'COUNTRY_A', 'COUNTRY_B', 'CELL_ID', 'SITE_ID'],\n",
       "      dtype='object')"
      ]
     },
     "execution_count": 56,
     "metadata": {},
     "output_type": "execute_result"
    }
   ],
   "source": [
    "# Change column name as per excel sheet specifications.\n",
    "telcom1.rename(columns = {'PRODUTC':'PRODUCT', 'DATETIME': 'DATE_TIME'}, inplace  = True)\n",
    "# Check changes\n",
    "telcom1.columns"
   ]
  },
  {
   "cell_type": "code",
   "execution_count": 80,
   "metadata": {},
   "outputs": [
    {
     "data": {
      "text/plain": [
       "array(['Voice', 'SMS'], dtype=object)"
      ]
     },
     "execution_count": 80,
     "metadata": {},
     "output_type": "execute_result"
    }
   ],
   "source": [
    "# Change column values as per excel sheet specifications.\n",
    "\n",
    "telcom1['PRODUCT'].replace(\"sms\", \"SMS\", inplace=True)\n",
    "telcom1['PRODUCT'].unique()\n"
   ]
  },
  {
   "cell_type": "code",
   "execution_count": 69,
   "metadata": {},
   "outputs": [
    {
     "name": "stderr",
     "output_type": "stream",
     "text": [
      "C:\\Users\\HP\\anaconda3\\lib\\site-packages\\pandas\\core\\ops\\array_ops.py:253: FutureWarning: elementwise comparison failed; returning scalar instead, but in the future will perform elementwise comparison\n",
      "  res_values = method(rvalues)\n"
     ]
    },
    {
     "data": {
      "text/plain": [
       "dtype('int64')"
      ]
     },
     "execution_count": 69,
     "metadata": {},
     "output_type": "execute_result"
    }
   ],
   "source": [
    "# Change data types as per excel sheet specifications.\n",
    "\n",
    "# Check for unwanted values.\n",
    "telcom1['CELL_ON_SITE'].unique()\n",
    "# Check number \n",
    "len(telcom1[telcom1['CELL_ON_SITE']== '_']) # = 92\n",
    "# Drop invalid entries\n",
    "telcom1 = telcom1[telcom1['CELL_ON_SITE'] != '_']\n",
    "telcom1['CELL_ON_SITE'].unique()\n",
    "# Change to integer dtype\n",
    "telcom1['CELL_ON_SITE'] = telcom1['CELL_ON_SITE'].astype('int64')\n",
    "telcom1['CELL_ON_SITE'].dtype"
   ]
  },
  {
   "cell_type": "markdown",
   "metadata": {},
   "source": [
    "### Telcom2"
   ]
  },
  {
   "cell_type": "code",
   "execution_count": 31,
   "metadata": {},
   "outputs": [
    {
     "name": "stdout",
     "output_type": "stream",
     "text": [
      "<class 'pandas.core.frame.DataFrame'>\n",
      "RangeIndex: 5001 entries, 0 to 5000\n",
      "Data columns (total 10 columns):\n",
      " #   Column        Non-Null Count  Dtype \n",
      "---  ------        --------------  ----- \n",
      " 0   PRODUCT       5001 non-null   object\n",
      " 1   VALUE         5001 non-null   int64 \n",
      " 2   DATE_TIME     5001 non-null   object\n",
      " 3   CELL_ON_SITE  5001 non-null   object\n",
      " 4   DW_A_NUMBER   5001 non-null   object\n",
      " 5   DW_B_NUMBER   5001 non-null   object\n",
      " 6   COUNTRY_A     5001 non-null   object\n",
      " 7   COUNTRY_B     5001 non-null   object\n",
      " 8   CELL_ID       5001 non-null   object\n",
      " 9   SITE_ID       4325 non-null   object\n",
      "dtypes: int64(1), object(9)\n",
      "memory usage: 390.8+ KB\n"
     ]
    }
   ],
   "source": [
    "# Telcom 2\n",
    "telcom2.info()"
   ]
  },
  {
   "cell_type": "code",
   "execution_count": 32,
   "metadata": {},
   "outputs": [],
   "source": [
    "# Dropping nan values\n",
    "telcom2.dropna(inplace=True)"
   ]
  },
  {
   "cell_type": "code",
   "execution_count": 39,
   "metadata": {},
   "outputs": [],
   "source": [
    "# Checking for, and removing duplicates.\n",
    "telcom2.duplicated().any().any() # True\n",
    "telcom2.drop_duplicates(inplace=True)"
   ]
  },
  {
   "cell_type": "code",
   "execution_count": 507,
   "metadata": {},
   "outputs": [
    {
     "name": "stdout",
     "output_type": "stream",
     "text": [
      "<class 'pandas.core.frame.DataFrame'>\n",
      "Int64Index: 4173 entries, 0 to 4998\n",
      "Data columns (total 10 columns):\n",
      " #   Column           Non-Null Count  Dtype \n",
      "---  ------           --------------  ----- \n",
      " 0   PRODUCT          4173 non-null   object\n",
      " 1   VALUE            4173 non-null   int64 \n",
      " 2   DATE_TIME        4173 non-null   object\n",
      " 3   CELL_ON_SITE     4173 non-null   int64 \n",
      " 4   DW_A_NUMBER_INT  4173 non-null   object\n",
      " 5   DW_B_NUMBER_INT  4173 non-null   object\n",
      " 6   COUNTRY_A        4173 non-null   object\n",
      " 7   COUNTRY_B        4173 non-null   object\n",
      " 8   CELL_ID          4173 non-null   object\n",
      " 9   SITE_ID          4173 non-null   object\n",
      "dtypes: int64(2), object(8)\n",
      "memory usage: 358.6+ KB\n"
     ]
    }
   ],
   "source": [
    "telcom2.info()"
   ]
  },
  {
   "cell_type": "code",
   "execution_count": 57,
   "metadata": {},
   "outputs": [
    {
     "data": {
      "text/plain": [
       "Index(['PRODUCT', 'VALUE', 'DATE_TIME', 'CELL_ON_SITE', 'DW_A_NUMBER_INT',\n",
       "       'DW_B_NUMBER_INT', 'COUNTRY_A', 'COUNTRY_B', 'CELL_ID', 'SITE_ID'],\n",
       "      dtype='object')"
      ]
     },
     "execution_count": 57,
     "metadata": {},
     "output_type": "execute_result"
    }
   ],
   "source": [
    "# Change column names\n",
    "telcom2.rename(columns = {'DW_A_NUMBER':'DW_A_NUMBER_INT', 'DW_B_NUMBER': 'DW_B_NUMBER_INT'}, inplace  = True)\n",
    "# Check changes.\n",
    "telcom2.columns"
   ]
  },
  {
   "cell_type": "code",
   "execution_count": 81,
   "metadata": {},
   "outputs": [
    {
     "data": {
      "text/plain": [
       "array(['SMS', 'Voice'], dtype=object)"
      ]
     },
     "execution_count": 81,
     "metadata": {},
     "output_type": "execute_result"
    }
   ],
   "source": [
    "# Change column values as per excel sheet specifications.\n",
    "\n",
    "telcom2['PRODUCT'].replace(\"sms\", \"SMS\", inplace=True)\n",
    "telcom2['PRODUCT'].unique()"
   ]
  },
  {
   "cell_type": "code",
   "execution_count": 73,
   "metadata": {},
   "outputs": [
    {
     "data": {
      "text/plain": [
       "dtype('int64')"
      ]
     },
     "execution_count": 73,
     "metadata": {},
     "output_type": "execute_result"
    }
   ],
   "source": [
    "# Change data types as per excel sheet specifications.\n",
    "\n",
    "# Check for unwanted values.\n",
    "telcom2['CELL_ON_SITE'].unique()\n",
    "# Check number \n",
    "len(telcom2[telcom2['CELL_ON_SITE']== '_']) # 90\n",
    "# Drop invalid entries\n",
    "telcom2 = telcom2[telcom2['CELL_ON_SITE'] != '_']\n",
    "telcom2['CELL_ON_SITE'].unique()\n",
    "# Change to integer dtype\n",
    "telcom2['CELL_ON_SITE'] = telcom2['CELL_ON_SITE'].astype('int64')\n",
    "telcom2['CELL_ON_SITE'].dtype"
   ]
  },
  {
   "cell_type": "markdown",
   "metadata": {},
   "source": [
    "### Telcom3"
   ]
  },
  {
   "cell_type": "code",
   "execution_count": 40,
   "metadata": {},
   "outputs": [
    {
     "name": "stdout",
     "output_type": "stream",
     "text": [
      "<class 'pandas.core.frame.DataFrame'>\n",
      "RangeIndex: 5001 entries, 0 to 5000\n",
      "Data columns (total 10 columns):\n",
      " #   Column           Non-Null Count  Dtype \n",
      "---  ------           --------------  ----- \n",
      " 0   PRODUCT          5001 non-null   object\n",
      " 1   VALUE            5001 non-null   int64 \n",
      " 2   DATE_TIME        5001 non-null   object\n",
      " 3   CELL_ON_SITE     5001 non-null   object\n",
      " 4   DW_A_NUMBER_INT  5001 non-null   object\n",
      " 5   DW_B_NUMBER_INT  5001 non-null   object\n",
      " 6   COUNTRY_A        5001 non-null   object\n",
      " 7   COUNTRY_B        5001 non-null   object\n",
      " 8   CELLID           5001 non-null   object\n",
      " 9   SIET_ID          4396 non-null   object\n",
      "dtypes: int64(1), object(9)\n",
      "memory usage: 390.8+ KB\n"
     ]
    }
   ],
   "source": [
    "# Telcom 3\n",
    "telcom3.info()"
   ]
  },
  {
   "cell_type": "code",
   "execution_count": 41,
   "metadata": {},
   "outputs": [],
   "source": [
    "# Dropping nan values\n",
    "telcom3.dropna(inplace=True)"
   ]
  },
  {
   "cell_type": "code",
   "execution_count": 44,
   "metadata": {},
   "outputs": [],
   "source": [
    "# Checking for, and removing duplicates.\n",
    "telcom3.duplicated().any().any() # Trueb\n",
    "telcom3.drop_duplicates(inplace=True)"
   ]
  },
  {
   "cell_type": "code",
   "execution_count": 505,
   "metadata": {},
   "outputs": [
    {
     "name": "stdout",
     "output_type": "stream",
     "text": [
      "<class 'pandas.core.frame.DataFrame'>\n",
      "Int64Index: 4222 entries, 0 to 5000\n",
      "Data columns (total 10 columns):\n",
      " #   Column           Non-Null Count  Dtype \n",
      "---  ------           --------------  ----- \n",
      " 0   PRODUCT          4222 non-null   object\n",
      " 1   VALUE            4222 non-null   int64 \n",
      " 2   DATE_TIME        4222 non-null   object\n",
      " 3   CELL_ON_SITE     4222 non-null   int64 \n",
      " 4   DW_A_NUMBER_INT  4222 non-null   object\n",
      " 5   DW_B_NUMBER_INT  4222 non-null   object\n",
      " 6   COUNTRY_A        4222 non-null   object\n",
      " 7   COUNTRY_B        4222 non-null   object\n",
      " 8   CELL_ID          4222 non-null   object\n",
      " 9   SITE_ID          4222 non-null   object\n",
      "dtypes: int64(2), object(8)\n",
      "memory usage: 362.8+ KB\n"
     ]
    }
   ],
   "source": [
    "telcom3.info()"
   ]
  },
  {
   "cell_type": "code",
   "execution_count": 96,
   "metadata": {},
   "outputs": [
    {
     "data": {
      "text/plain": [
       "Index(['PRODUCT', 'VALUE', 'DATE_TIME', 'CELL_ON_SITE', 'DW_A_NUMBER_INT',\n",
       "       'DW_B_NUMBER_INT', 'COUNTRY_A', 'COUNTRY_B', 'CELL_ID', 'SITE_ID'],\n",
       "      dtype='object')"
      ]
     },
     "execution_count": 96,
     "metadata": {},
     "output_type": "execute_result"
    }
   ],
   "source": [
    "# Change column names\n",
    "telcom3.rename(columns = {'CELLID':'CELL_ID', 'SIET_ID': 'SITE_ID'}, inplace  = True)\n",
    "# Check changes.\n",
    "telcom3.columns"
   ]
  },
  {
   "cell_type": "code",
   "execution_count": 82,
   "metadata": {},
   "outputs": [
    {
     "data": {
      "text/plain": [
       "array(['Voice', 'SMS'], dtype=object)"
      ]
     },
     "execution_count": 82,
     "metadata": {},
     "output_type": "execute_result"
    }
   ],
   "source": [
    "# Change column values as per excel sheet specifications.\n",
    "\n",
    "telcom3['PRODUCT'].replace(\"sms\", \"SMS\", inplace=True)\n",
    "telcom3['PRODUCT'].unique()"
   ]
  },
  {
   "cell_type": "code",
   "execution_count": 78,
   "metadata": {},
   "outputs": [
    {
     "data": {
      "text/plain": [
       "dtype('int64')"
      ]
     },
     "execution_count": 78,
     "metadata": {},
     "output_type": "execute_result"
    }
   ],
   "source": [
    "# Change data types as per excel sheet specifications.\n",
    "\n",
    "# Check for unwanted values.\n",
    "telcom3['CELL_ON_SITE'].unique()\n",
    "# Check number \n",
    "len(telcom3[telcom3['CELL_ON_SITE']== '_']) # 89\n",
    "# Drop invalid entries\n",
    "telcom3 = telcom3[telcom3['CELL_ON_SITE'] != '_']\n",
    "telcom3['CELL_ON_SITE'].unique()\n",
    "# Change to integer dtype\n",
    "telcom3['CELL_ON_SITE'] = telcom3['CELL_ON_SITE'].astype('int64')\n",
    "telcom3['CELL_ON_SITE'].dtype"
   ]
  },
  {
   "cell_type": "markdown",
   "metadata": {},
   "source": [
    "### Merging"
   ]
  },
  {
   "cell_type": "code",
   "execution_count": 438,
   "metadata": {},
   "outputs": [
    {
     "data": {
      "text/html": [
       "<div>\n",
       "<style scoped>\n",
       "    .dataframe tbody tr th:only-of-type {\n",
       "        vertical-align: middle;\n",
       "    }\n",
       "\n",
       "    .dataframe tbody tr th {\n",
       "        vertical-align: top;\n",
       "    }\n",
       "\n",
       "    .dataframe thead th {\n",
       "        text-align: right;\n",
       "    }\n",
       "</style>\n",
       "<table border=\"1\" class=\"dataframe\">\n",
       "  <thead>\n",
       "    <tr style=\"text-align: right;\">\n",
       "      <th></th>\n",
       "      <th>PRODUCT</th>\n",
       "      <th>VALUE</th>\n",
       "      <th>DATE_TIME</th>\n",
       "      <th>DW_A_NUMBER_INT</th>\n",
       "      <th>DW_B_NUMBER_INT</th>\n",
       "      <th>CELL_ID</th>\n",
       "      <th>SITE_ID</th>\n",
       "    </tr>\n",
       "  </thead>\n",
       "  <tbody>\n",
       "    <tr>\n",
       "      <th>0</th>\n",
       "      <td>Voice</td>\n",
       "      <td>0</td>\n",
       "      <td>2012-05-06 23:04:37.0</td>\n",
       "      <td>49fae048b547780</td>\n",
       "      <td>1a49f8b0ded9de6</td>\n",
       "      <td>/TJNe+Mmtu</td>\n",
       "      <td>/TJNe+Mmtu</td>\n",
       "    </tr>\n",
       "    <tr>\n",
       "      <th>1</th>\n",
       "      <td>SMS</td>\n",
       "      <td>0</td>\n",
       "      <td>2012-05-06 23:05:25.0</td>\n",
       "      <td>7a54a6eaee19e65</td>\n",
       "      <td>93343ba6e41af95</td>\n",
       "      <td>/+cKZKIp41</td>\n",
       "      <td>/+cKZKIp41</td>\n",
       "    </tr>\n",
       "    <tr>\n",
       "      <th>2</th>\n",
       "      <td>SMS</td>\n",
       "      <td>25</td>\n",
       "      <td>2012-05-06 23:05:41.0</td>\n",
       "      <td>6008887b0207d82</td>\n",
       "      <td>7aacc9709ce0a20</td>\n",
       "      <td>/u0FSD+ahi</td>\n",
       "      <td>/u0FSD+ahi</td>\n",
       "    </tr>\n",
       "    <tr>\n",
       "      <th>3</th>\n",
       "      <td>Voice</td>\n",
       "      <td>56</td>\n",
       "      <td>2012-05-06 23:05:42.0</td>\n",
       "      <td>7370032e20f4e96</td>\n",
       "      <td>6af4a60e74c91d3</td>\n",
       "      <td>+cNeJzsTp3</td>\n",
       "      <td>+cNeJzsTp3</td>\n",
       "    </tr>\n",
       "    <tr>\n",
       "      <th>4</th>\n",
       "      <td>Voice</td>\n",
       "      <td>14</td>\n",
       "      <td>2012-05-06 23:06:29.0</td>\n",
       "      <td>966ba4656e38e62</td>\n",
       "      <td>02aa736ee555d5c</td>\n",
       "      <td>051KhYDCpv</td>\n",
       "      <td>051KhYDCpv</td>\n",
       "    </tr>\n",
       "  </tbody>\n",
       "</table>\n",
       "</div>"
      ],
      "text/plain": [
       "  PRODUCT  VALUE              DATE_TIME  DW_A_NUMBER_INT  DW_B_NUMBER_INT  \\\n",
       "0   Voice      0  2012-05-06 23:04:37.0  49fae048b547780  1a49f8b0ded9de6   \n",
       "1     SMS      0  2012-05-06 23:05:25.0  7a54a6eaee19e65  93343ba6e41af95   \n",
       "2     SMS     25  2012-05-06 23:05:41.0  6008887b0207d82  7aacc9709ce0a20   \n",
       "3   Voice     56  2012-05-06 23:05:42.0  7370032e20f4e96  6af4a60e74c91d3   \n",
       "4   Voice     14  2012-05-06 23:06:29.0  966ba4656e38e62  02aa736ee555d5c   \n",
       "\n",
       "      CELL_ID     SITE_ID  \n",
       "0  /TJNe+Mmtu  /TJNe+Mmtu  \n",
       "1  /+cKZKIp41  /+cKZKIp41  \n",
       "2  /u0FSD+ahi  /u0FSD+ahi  \n",
       "3  +cNeJzsTp3  +cNeJzsTp3  \n",
       "4  051KhYDCpv  051KhYDCpv  "
      ]
     },
     "execution_count": 438,
     "metadata": {},
     "output_type": "execute_result"
    }
   ],
   "source": [
    "# Merging datasets\n",
    "\n",
    "telcom_all = pd.concat([telcom1, telcom2, telcom3], axis = 0, ignore_index=True)\n",
    "# Drop useless columns\n",
    "telcom_all.drop(columns=['COUNTRY_A','COUNTRY_B','CELL_ON_SITE'], axis = 1, inplace = True)\n",
    "# Preview\n",
    "telcom_all.head()"
   ]
  },
  {
   "cell_type": "code",
   "execution_count": 98,
   "metadata": {},
   "outputs": [
    {
     "name": "stdout",
     "output_type": "stream",
     "text": [
      "<class 'pandas.core.frame.DataFrame'>\n",
      "RangeIndex: 12518 entries, 0 to 12517\n",
      "Data columns (total 10 columns):\n",
      " #   Column           Non-Null Count  Dtype \n",
      "---  ------           --------------  ----- \n",
      " 0   PRODUCT          12518 non-null  object\n",
      " 1   VALUE            12518 non-null  int64 \n",
      " 2   DATE_TIME        12518 non-null  object\n",
      " 3   CELL_ON_SITE     12518 non-null  int64 \n",
      " 4   DW_A_NUMBER_INT  12518 non-null  object\n",
      " 5   DW_B_NUMBER_INT  12518 non-null  object\n",
      " 6   COUNTRY_A        12518 non-null  object\n",
      " 7   COUNTRY_B        12518 non-null  object\n",
      " 8   CELL_ID          12518 non-null  object\n",
      " 9   SITE_ID          12518 non-null  object\n",
      "dtypes: int64(2), object(8)\n",
      "memory usage: 978.1+ KB\n"
     ]
    }
   ],
   "source": [
    "# Check information\n",
    "telcom_all.info()"
   ]
  },
  {
   "cell_type": "markdown",
   "metadata": {},
   "source": [
    "### cells_geo"
   ]
  },
  {
   "cell_type": "code",
   "execution_count": 115,
   "metadata": {},
   "outputs": [
    {
     "name": "stdout",
     "output_type": "stream",
     "text": [
      "<class 'pandas.core.frame.DataFrame'>\n",
      "Int64Index: 3974 entries, 0 to 3973\n",
      "Data columns (total 11 columns):\n",
      " #   Column        Non-Null Count  Dtype  \n",
      "---  ------        --------------  -----  \n",
      " 0   VILLES        3974 non-null   object \n",
      " 1   STATUS        3907 non-null   object \n",
      " 2   LOCALISATION  3974 non-null   object \n",
      " 3   DECOUPZONE    3974 non-null   object \n",
      " 4   ZONENAME      3968 non-null   object \n",
      " 5   LONGITUDE     3974 non-null   float64\n",
      " 6   LATITUDE      3974 non-null   float64\n",
      " 7   REGION        3974 non-null   object \n",
      " 8   AREA          3951 non-null   object \n",
      " 9   CELL_ID       3974 non-null   object \n",
      " 10  SITE_CODE     3974 non-null   object \n",
      "dtypes: float64(2), object(9)\n",
      "memory usage: 372.6+ KB\n"
     ]
    }
   ],
   "source": [
    "# Check information\n",
    "cells_geo.info()"
   ]
  },
  {
   "cell_type": "code",
   "execution_count": 445,
   "metadata": {},
   "outputs": [],
   "source": [
    "\n",
    "# Filling nan values\n",
    "cells_geo['STATUS'].fillna('Not in service', inplace = True)\n",
    "# Check changes\n",
    "cells_geo['STATUS'].unique()\n",
    "# Dropping nan values\n",
    "cells_geo.dropna(inplace=True)\n"
   ]
  },
  {
   "cell_type": "code",
   "execution_count": 446,
   "metadata": {},
   "outputs": [],
   "source": [
    "# Checking for, and removing duplicates.\n",
    "cells_geo.duplicated().any().any() # True\n",
    "cells_geo.drop_duplicates(inplace=True)"
   ]
  },
  {
   "cell_type": "code",
   "execution_count": 447,
   "metadata": {},
   "outputs": [
    {
     "name": "stdout",
     "output_type": "stream",
     "text": [
      "<class 'pandas.core.frame.DataFrame'>\n",
      "Int64Index: 3902 entries, 23 to 3973\n",
      "Data columns (total 11 columns):\n",
      " #   Column        Non-Null Count  Dtype  \n",
      "---  ------        --------------  -----  \n",
      " 0   VILLES        3902 non-null   object \n",
      " 1   STATUS        3902 non-null   object \n",
      " 2   LOCALISATION  3902 non-null   object \n",
      " 3   DECOUPZONE    3902 non-null   object \n",
      " 4   ZONENAME      3902 non-null   object \n",
      " 5   LONGITUDE     3902 non-null   float64\n",
      " 6   LATITUDE      3902 non-null   float64\n",
      " 7   REGION        3902 non-null   object \n",
      " 8   AREA          3902 non-null   object \n",
      " 9   CELL_ID       3902 non-null   object \n",
      " 10  SITE_CODE     3902 non-null   object \n",
      "dtypes: float64(2), object(9)\n",
      "memory usage: 365.8+ KB\n"
     ]
    }
   ],
   "source": [
    "# Check changes\n",
    "cells_geo.info()"
   ]
  },
  {
   "cell_type": "code",
   "execution_count": 502,
   "metadata": {},
   "outputs": [
    {
     "data": {
      "text/html": [
       "<div>\n",
       "<style scoped>\n",
       "    .dataframe tbody tr th:only-of-type {\n",
       "        vertical-align: middle;\n",
       "    }\n",
       "\n",
       "    .dataframe tbody tr th {\n",
       "        vertical-align: top;\n",
       "    }\n",
       "\n",
       "    .dataframe thead th {\n",
       "        text-align: right;\n",
       "    }\n",
       "</style>\n",
       "<table border=\"1\" class=\"dataframe\">\n",
       "  <thead>\n",
       "    <tr style=\"text-align: right;\">\n",
       "      <th></th>\n",
       "      <th>LONGITUDE</th>\n",
       "      <th>LATITUDE</th>\n",
       "    </tr>\n",
       "  </thead>\n",
       "  <tbody>\n",
       "    <tr>\n",
       "      <th>LONGITUDE</th>\n",
       "      <td>1.000000</td>\n",
       "      <td>-0.458196</td>\n",
       "    </tr>\n",
       "    <tr>\n",
       "      <th>LATITUDE</th>\n",
       "      <td>-0.458196</td>\n",
       "      <td>1.000000</td>\n",
       "    </tr>\n",
       "  </tbody>\n",
       "</table>\n",
       "</div>"
      ],
      "text/plain": [
       "           LONGITUDE  LATITUDE\n",
       "LONGITUDE   1.000000 -0.458196\n",
       "LATITUDE   -0.458196  1.000000"
      ]
     },
     "execution_count": 502,
     "metadata": {},
     "output_type": "execute_result"
    }
   ],
   "source": [
    "cells_geo.corr() # Very small correlation between the two."
   ]
  },
  {
   "cell_type": "markdown",
   "metadata": {},
   "source": [
    "## Analysis"
   ]
  },
  {
   "cell_type": "code",
   "execution_count": 102,
   "metadata": {},
   "outputs": [
    {
     "data": {
      "text/html": [
       "<div>\n",
       "<style scoped>\n",
       "    .dataframe tbody tr th:only-of-type {\n",
       "        vertical-align: middle;\n",
       "    }\n",
       "\n",
       "    .dataframe tbody tr th {\n",
       "        vertical-align: top;\n",
       "    }\n",
       "\n",
       "    .dataframe thead th {\n",
       "        text-align: right;\n",
       "    }\n",
       "</style>\n",
       "<table border=\"1\" class=\"dataframe\">\n",
       "  <thead>\n",
       "    <tr style=\"text-align: right;\">\n",
       "      <th></th>\n",
       "      <th>VALUE</th>\n",
       "      <th>CELL_ON_SITE</th>\n",
       "    </tr>\n",
       "  </thead>\n",
       "  <tbody>\n",
       "    <tr>\n",
       "      <th>count</th>\n",
       "      <td>12518.000000</td>\n",
       "      <td>12518.000000</td>\n",
       "    </tr>\n",
       "    <tr>\n",
       "      <th>mean</th>\n",
       "      <td>27.655616</td>\n",
       "      <td>1.495047</td>\n",
       "    </tr>\n",
       "    <tr>\n",
       "      <th>std</th>\n",
       "      <td>111.787407</td>\n",
       "      <td>1.361578</td>\n",
       "    </tr>\n",
       "    <tr>\n",
       "      <th>min</th>\n",
       "      <td>0.000000</td>\n",
       "      <td>0.000000</td>\n",
       "    </tr>\n",
       "    <tr>\n",
       "      <th>25%</th>\n",
       "      <td>0.000000</td>\n",
       "      <td>0.000000</td>\n",
       "    </tr>\n",
       "    <tr>\n",
       "      <th>50%</th>\n",
       "      <td>0.000000</td>\n",
       "      <td>1.000000</td>\n",
       "    </tr>\n",
       "    <tr>\n",
       "      <th>75%</th>\n",
       "      <td>25.000000</td>\n",
       "      <td>2.000000</td>\n",
       "    </tr>\n",
       "    <tr>\n",
       "      <th>max</th>\n",
       "      <td>6750.000000</td>\n",
       "      <td>8.000000</td>\n",
       "    </tr>\n",
       "  </tbody>\n",
       "</table>\n",
       "</div>"
      ],
      "text/plain": [
       "              VALUE  CELL_ON_SITE\n",
       "count  12518.000000  12518.000000\n",
       "mean      27.655616      1.495047\n",
       "std      111.787407      1.361578\n",
       "min        0.000000      0.000000\n",
       "25%        0.000000      0.000000\n",
       "50%        0.000000      1.000000\n",
       "75%       25.000000      2.000000\n",
       "max     6750.000000      8.000000"
      ]
     },
     "execution_count": 102,
     "metadata": {},
     "output_type": "execute_result"
    }
   ],
   "source": [
    "# Check description\n",
    "telcom_all.describe()"
   ]
  },
  {
   "cell_type": "markdown",
   "metadata": {},
   "source": [
    "### By City"
   ]
  },
  {
   "cell_type": "markdown",
   "metadata": {},
   "source": [
    "#### 1. Most used cities"
   ]
  },
  {
   "cell_type": "markdown",
   "metadata": {},
   "source": [
    "##### Analysis"
   ]
  },
  {
   "cell_type": "code",
   "execution_count": 448,
   "metadata": {},
   "outputs": [
    {
     "data": {
      "text/plain": [
       "Index(['VILLES', 'STATUS', 'LOCALISATION', 'DECOUPZONE', 'ZONENAME',\n",
       "       'LONGITUDE', 'LATITUDE', 'REGION', 'AREA', 'CELL_ID', 'SITE_CODE'],\n",
       "      dtype='object')"
      ]
     },
     "execution_count": 448,
     "metadata": {},
     "output_type": "execute_result"
    }
   ],
   "source": [
    "# Check available columns\n",
    "cells_geo.columns"
   ]
  },
  {
   "cell_type": "code",
   "execution_count": 449,
   "metadata": {},
   "outputs": [
    {
     "data": {
      "text/plain": [
       "array(['In Service', 'Not in service'], dtype=object)"
      ]
     },
     "execution_count": 449,
     "metadata": {},
     "output_type": "execute_result"
    }
   ],
   "source": [
    "# Check service status available\n",
    "cells_geo['STATUS'].unique()"
   ]
  },
  {
   "cell_type": "markdown",
   "metadata": {},
   "source": [
    "##### Result"
   ]
  },
  {
   "cell_type": "code",
   "execution_count": 452,
   "metadata": {},
   "outputs": [
    {
     "data": {
      "text/plain": [
       "COCODY          353\n",
       "YOPOUGON        286\n",
       "ABOBO           244\n",
       "MARCORY         140\n",
       "TREICHVILLE     132\n",
       "YAMOUSSOUKRO    104\n",
       "ADJAME          102\n",
       "PLATEAU         100\n",
       "KOUMASSI         91\n",
       "BOUAKE           65\n",
       "Name: VILLES, dtype: int64"
      ]
     },
     "execution_count": 452,
     "metadata": {},
     "output_type": "execute_result"
    }
   ],
   "source": [
    "# Since the status is uniform for all records, \n",
    "# Top 10 most used cities \n",
    "cells_geo[cells_geo['STATUS'] == 'In Service']['VILLES'].value_counts().head(10)\n"
   ]
  },
  {
   "cell_type": "code",
   "execution_count": 509,
   "metadata": {},
   "outputs": [
    {
     "data": {
      "text/plain": [
       "KETRO BASSAM    3\n",
       "SOROBANGO       3\n",
       "MONTCOUPE       3\n",
       "AKOUYAKRO       3\n",
       "ZAROKO          3\n",
       "KOTOULA         2\n",
       "MEMNI           2\n",
       "KRIKOREA        2\n",
       "DANANON         1\n",
       "OUANGOLO        1\n",
       "Name: VILLES, dtype: int64"
      ]
     },
     "execution_count": 509,
     "metadata": {},
     "output_type": "execute_result"
    }
   ],
   "source": [
    "# Least Used Cities\n",
    "cells_geo['VILLES'].value_counts().tail(10)\n"
   ]
  },
  {
   "cell_type": "code",
   "execution_count": 518,
   "metadata": {},
   "outputs": [
    {
     "data": {
      "text/plain": [
       "array(['ABIDJAN', 'INTERIEUR'], dtype=object)"
      ]
     },
     "execution_count": 518,
     "metadata": {},
     "output_type": "execute_result"
    }
   ],
   "source": [
    "cells_geo['LOCALISATION'].unique()"
   ]
  },
  {
   "cell_type": "code",
   "execution_count": 517,
   "metadata": {},
   "outputs": [
    {
     "data": {
      "text/plain": [
       "INTERIEUR    2276\n",
       "ABIDJAN      1626\n",
       "Name: LOCALISATION, dtype: int64"
      ]
     },
     "execution_count": 517,
     "metadata": {},
     "output_type": "execute_result"
    }
   ],
   "source": [
    "\n",
    "cells_geo['LOCALISATION'].value_counts()"
   ]
  },
  {
   "cell_type": "code",
   "execution_count": 515,
   "metadata": {},
   "outputs": [
    {
     "data": {
      "text/plain": [
       "COCODY         353\n",
       "YOPOUGON       286\n",
       "ABOBO          244\n",
       "MARCORY        140\n",
       "TREICHVILLE    132\n",
       "ADJAME         102\n",
       "PLATEAU        100\n",
       "KOUMASSI        91\n",
       "PORT-BOUET      55\n",
       "ATTECOUBE       45\n",
       "Name: VILLES, dtype: int64"
      ]
     },
     "execution_count": 515,
     "metadata": {},
     "output_type": "execute_result"
    }
   ],
   "source": [
    "cells_geo[(cells_geo['STATUS'] == 'In Service') & ((cells_geo)['LOCALISATION'] == 'ABIDJAN')]['VILLES'].value_counts().head(10)"
   ]
  },
  {
   "cell_type": "code",
   "execution_count": 516,
   "metadata": {},
   "outputs": [
    {
     "data": {
      "text/plain": [
       "YAMOUSSOUKRO    104\n",
       "BOUAKE           65\n",
       "DALOA            59\n",
       "GAGNOA           55\n",
       "SAN-PEDRO        55\n",
       "DIVO             36\n",
       "KORHOGO          31\n",
       "SOUBRE           28\n",
       "GUIGLO           27\n",
       "GRAND-BASSAM     25\n",
       "Name: VILLES, dtype: int64"
      ]
     },
     "execution_count": 516,
     "metadata": {},
     "output_type": "execute_result"
    }
   ],
   "source": [
    "cells_geo[(cells_geo['STATUS'] == 'In Service') & ((cells_geo)['LOCALISATION'] != 'ABIDJAN')]['VILLES'].value_counts().head(10)"
   ]
  },
  {
   "cell_type": "markdown",
   "metadata": {},
   "source": [
    "### 2. Most used city during business and home hours"
   ]
  },
  {
   "cell_type": "markdown",
   "metadata": {},
   "source": [
    "##### Analysis"
   ]
  },
  {
   "cell_type": "code",
   "execution_count": 453,
   "metadata": {},
   "outputs": [
    {
     "name": "stdout",
     "output_type": "stream",
     "text": [
      "Index(['PRODUCT', 'VALUE', 'DATE_TIME', 'DW_A_NUMBER_INT', 'DW_B_NUMBER_INT',\n",
      "       'CELL_ID', 'SITE_ID'],\n",
      "      dtype='object')\n",
      "Index(['VILLES', 'STATUS', 'LOCALISATION', 'DECOUPZONE', 'ZONENAME',\n",
      "       'LONGITUDE', 'LATITUDE', 'REGION', 'AREA', 'CELL_ID', 'SITE_CODE'],\n",
      "      dtype='object')\n"
     ]
    }
   ],
   "source": [
    "# Check columns\n",
    "print(telcom_all.columns)\n",
    "print(cells_geo.columns)"
   ]
  },
  {
   "cell_type": "code",
   "execution_count": 459,
   "metadata": {},
   "outputs": [
    {
     "name": "stdout",
     "output_type": "stream",
     "text": [
      "0\n"
     ]
    }
   ],
   "source": [
    "# Comparing CELL_IDs in both datasets\n",
    "ids = []\n",
    "for id in list(cells_geo[cells_geo['STATUS'] == 'In Service']['CELL_ID'].unique()):\n",
    "    if id not in list(telcom_all['CELL_ID'].unique()):\n",
    "        continue\n",
    "    else:\n",
    "       ids.append(id) \n",
    "print(len(ids)) # No similar CELL IDs    "
   ]
  },
  {
   "cell_type": "code",
   "execution_count": 460,
   "metadata": {},
   "outputs": [
    {
     "name": "stdout",
     "output_type": "stream",
     "text": [
      "862\n"
     ]
    }
   ],
   "source": [
    "# Comparing CELL_IDs in both datasets\n",
    "ids2 = []\n",
    "for id in list(telcom_all['SITE_ID'].unique()):\n",
    "    if id not in list(cells_geo[cells_geo['STATUS'] == 'In Service']['SITE_CODE'].unique()):\n",
    "        continue\n",
    "    else:\n",
    "       ids.append(id) \n",
    "print(len(ids)) # No similar CELL IDs "
   ]
  },
  {
   "cell_type": "code",
   "execution_count": 461,
   "metadata": {},
   "outputs": [
    {
     "name": "stdout",
     "output_type": "stream",
     "text": [
      "<class 'pandas.core.frame.DataFrame'>\n",
      "Int64Index: 49428 entries, 0 to 49427\n",
      "Data columns (total 13 columns):\n",
      " #   Column        Non-Null Count  Dtype  \n",
      "---  ------        --------------  -----  \n",
      " 0   VILLES        49428 non-null  object \n",
      " 1   STATUS        49428 non-null  object \n",
      " 2   LOCALISATION  49428 non-null  object \n",
      " 3   DECOUPZONE    49428 non-null  object \n",
      " 4   ZONENAME      49428 non-null  object \n",
      " 5   LONGITUDE     49428 non-null  float64\n",
      " 6   LATITUDE      49428 non-null  float64\n",
      " 7   REGION        49428 non-null  object \n",
      " 8   AREA          49428 non-null  object \n",
      " 9   CELL_ID       49428 non-null  object \n",
      " 10  SITE_CODE     49428 non-null  object \n",
      " 11  SITE_ID       49428 non-null  object \n",
      " 12  DATE_TIME     49428 non-null  object \n",
      "dtypes: float64(2), object(11)\n",
      "memory usage: 5.3+ MB\n"
     ]
    }
   ],
   "source": [
    "# Merging tables on site id and site code.\n",
    "\n",
    "tel_cells = cells_geo.merge(telcom_all[['SITE_ID','DATE_TIME']], left_on = 'SITE_CODE', right_on = 'SITE_ID')\n",
    "tel_cells.head()\n",
    "tel_cells.isna().any().any() #True\n",
    "tel_cells.dropna(inplace = True)\n",
    "tel_cells.info()"
   ]
  },
  {
   "cell_type": "markdown",
   "metadata": {},
   "source": [
    "##### Result"
   ]
  },
  {
   "cell_type": "code",
   "execution_count": 508,
   "metadata": {},
   "outputs": [
    {
     "data": {
      "text/html": [
       "<div>\n",
       "<style scoped>\n",
       "    .dataframe tbody tr th:only-of-type {\n",
       "        vertical-align: middle;\n",
       "    }\n",
       "\n",
       "    .dataframe tbody tr th {\n",
       "        vertical-align: top;\n",
       "    }\n",
       "\n",
       "    .dataframe thead th {\n",
       "        text-align: right;\n",
       "    }\n",
       "</style>\n",
       "<table border=\"1\" class=\"dataframe\">\n",
       "  <thead>\n",
       "    <tr style=\"text-align: right;\">\n",
       "      <th></th>\n",
       "      <th>Total_Time</th>\n",
       "    </tr>\n",
       "    <tr>\n",
       "      <th>VILLES</th>\n",
       "      <th></th>\n",
       "    </tr>\n",
       "  </thead>\n",
       "  <tbody>\n",
       "    <tr>\n",
       "      <th>YOPOUGON</th>\n",
       "      <td>63.448463</td>\n",
       "    </tr>\n",
       "    <tr>\n",
       "      <th>ABOBO</th>\n",
       "      <td>43.671241</td>\n",
       "    </tr>\n",
       "    <tr>\n",
       "      <th>COCODY</th>\n",
       "      <td>27.570685</td>\n",
       "    </tr>\n",
       "    <tr>\n",
       "      <th>ADJAME</th>\n",
       "      <td>18.766690</td>\n",
       "    </tr>\n",
       "    <tr>\n",
       "      <th>KOUMASSI</th>\n",
       "      <td>15.743296</td>\n",
       "    </tr>\n",
       "    <tr>\n",
       "      <th>MARCORY</th>\n",
       "      <td>15.477745</td>\n",
       "    </tr>\n",
       "    <tr>\n",
       "      <th>YAMOUSSOUKRO</th>\n",
       "      <td>15.393375</td>\n",
       "    </tr>\n",
       "    <tr>\n",
       "      <th>TREICHVILLE</th>\n",
       "      <td>15.339278</td>\n",
       "    </tr>\n",
       "    <tr>\n",
       "      <th>DALOA</th>\n",
       "      <td>12.907444</td>\n",
       "    </tr>\n",
       "    <tr>\n",
       "      <th>ATTECOUBE</th>\n",
       "      <td>11.903097</td>\n",
       "    </tr>\n",
       "  </tbody>\n",
       "</table>\n",
       "</div>"
      ],
      "text/plain": [
       "              Total_Time\n",
       "VILLES                  \n",
       "YOPOUGON       63.448463\n",
       "ABOBO          43.671241\n",
       "COCODY         27.570685\n",
       "ADJAME         18.766690\n",
       "KOUMASSI       15.743296\n",
       "MARCORY        15.477745\n",
       "YAMOUSSOUKRO   15.393375\n",
       "TREICHVILLE    15.339278\n",
       "DALOA          12.907444\n",
       "ATTECOUBE      11.903097"
      ]
     },
     "execution_count": 508,
     "metadata": {},
     "output_type": "execute_result"
    }
   ],
   "source": [
    "# Splitting the date column\n",
    "tel_cells['HOUR'] = tel_cells['DATE_TIME'].apply(lambda x: int(x[-10:-8]))\n",
    "tel_cells['MIN'] = tel_cells['DATE_TIME'].apply(lambda x: int(x[-7:-5]))\n",
    "tel_cells['SEC'] = tel_cells['DATE_TIME'].apply(lambda x: int(x[-4:-2]))\n",
    "# Grouping by the VILLES and DATE_TIME columns\n",
    "total_time = tel_cells[['VILLES', 'DATE_TIME','HOUR','MIN','SEC']].groupby(['VILLES', 'DATE_TIME']).sum()\n",
    "# Obtaining the total sum for the sec, min and hours\n",
    "total_time = total_time.groupby('VILLES').sum()\n",
    "# Time in hours\n",
    "total_time['Total_Time'] = ((total_time['HOUR']/3600) + (total_time['MIN']/60) + total_time['SEC'])/3600\n",
    "# Sorting according to the higest total time to obtain the most used city during business and working hours.\n",
    "total_time.sort_values('Total_Time',ascending=False)[['Total_Time']].head(10)\n",
    "\n"
   ]
  },
  {
   "cell_type": "code",
   "execution_count": 510,
   "metadata": {},
   "outputs": [
    {
     "data": {
      "text/html": [
       "<div>\n",
       "<style scoped>\n",
       "    .dataframe tbody tr th:only-of-type {\n",
       "        vertical-align: middle;\n",
       "    }\n",
       "\n",
       "    .dataframe tbody tr th {\n",
       "        vertical-align: top;\n",
       "    }\n",
       "\n",
       "    .dataframe thead th {\n",
       "        text-align: right;\n",
       "    }\n",
       "</style>\n",
       "<table border=\"1\" class=\"dataframe\">\n",
       "  <thead>\n",
       "    <tr style=\"text-align: right;\">\n",
       "      <th></th>\n",
       "      <th>Total_Time</th>\n",
       "    </tr>\n",
       "    <tr>\n",
       "      <th>VILLES</th>\n",
       "      <th></th>\n",
       "    </tr>\n",
       "  </thead>\n",
       "  <tbody>\n",
       "    <tr>\n",
       "      <th>SANANFEREDOUGOU</th>\n",
       "      <td>0.005000</td>\n",
       "    </tr>\n",
       "    <tr>\n",
       "      <th>TOUVRE</th>\n",
       "      <td>0.004167</td>\n",
       "    </tr>\n",
       "    <tr>\n",
       "      <th>BACANDA</th>\n",
       "      <td>0.004167</td>\n",
       "    </tr>\n",
       "    <tr>\n",
       "      <th>TORO-KINKENE</th>\n",
       "      <td>0.004167</td>\n",
       "    </tr>\n",
       "    <tr>\n",
       "      <th>ATTIGUEHI</th>\n",
       "      <td>0.003347</td>\n",
       "    </tr>\n",
       "    <tr>\n",
       "      <th>NGATTADOLIKRO</th>\n",
       "      <td>0.003347</td>\n",
       "    </tr>\n",
       "    <tr>\n",
       "      <th>BINAO</th>\n",
       "      <td>0.003333</td>\n",
       "    </tr>\n",
       "    <tr>\n",
       "      <th>SAMO</th>\n",
       "      <td>0.002500</td>\n",
       "    </tr>\n",
       "    <tr>\n",
       "      <th>ANIANSUE</th>\n",
       "      <td>0.001681</td>\n",
       "    </tr>\n",
       "    <tr>\n",
       "      <th>PONANGUIGLO</th>\n",
       "      <td>0.000000</td>\n",
       "    </tr>\n",
       "  </tbody>\n",
       "</table>\n",
       "</div>"
      ],
      "text/plain": [
       "                 Total_Time\n",
       "VILLES                     \n",
       "SANANFEREDOUGOU    0.005000\n",
       "TOUVRE             0.004167\n",
       "BACANDA            0.004167\n",
       "TORO-KINKENE       0.004167\n",
       "ATTIGUEHI          0.003347\n",
       "NGATTADOLIKRO      0.003347\n",
       "BINAO              0.003333\n",
       "SAMO               0.002500\n",
       "ANIANSUE           0.001681\n",
       "PONANGUIGLO        0.000000"
      ]
     },
     "execution_count": 510,
     "metadata": {},
     "output_type": "execute_result"
    }
   ],
   "source": [
    "# Least used\n",
    "total_time.sort_values('Total_Time',ascending=False)[['Total_Time']].tail(10)"
   ]
  },
  {
   "cell_type": "markdown",
   "metadata": {},
   "source": [
    "#### 3. Most Used City"
   ]
  },
  {
   "cell_type": "markdown",
   "metadata": {},
   "source": [
    "##### Result"
   ]
  },
  {
   "cell_type": "code",
   "execution_count": 465,
   "metadata": {},
   "outputs": [
    {
     "data": {
      "text/plain": [
       "COCODY    353\n",
       "Name: VILLES, dtype: int64"
      ]
     },
     "execution_count": 465,
     "metadata": {},
     "output_type": "execute_result"
    }
   ],
   "source": [
    "# Most Used City\n",
    "cells_geo['VILLES'].value_counts().head(1)"
   ]
  },
  {
   "cell_type": "markdown",
   "metadata": {},
   "source": [
    "### By Product"
   ]
  },
  {
   "cell_type": "markdown",
   "metadata": {},
   "source": [
    "#### 4. Most Popular Product"
   ]
  },
  {
   "cell_type": "code",
   "execution_count": 415,
   "metadata": {},
   "outputs": [
    {
     "data": {
      "text/plain": [
       "SMS      6950\n",
       "Voice    5568\n",
       "Name: PRODUCT, dtype: int64"
      ]
     },
     "execution_count": 415,
     "metadata": {},
     "output_type": "execute_result"
    }
   ],
   "source": [
    "# Popular product\n",
    "telcom_all['PRODUCT'].value_counts()"
   ]
  },
  {
   "cell_type": "markdown",
   "metadata": {},
   "source": [
    "SMS is the most popular product."
   ]
  },
  {
   "cell_type": "code",
   "execution_count": 416,
   "metadata": {},
   "outputs": [
    {
     "data": {
      "text/html": [
       "<div>\n",
       "<style scoped>\n",
       "    .dataframe tbody tr th:only-of-type {\n",
       "        vertical-align: middle;\n",
       "    }\n",
       "\n",
       "    .dataframe tbody tr th {\n",
       "        vertical-align: top;\n",
       "    }\n",
       "\n",
       "    .dataframe thead th {\n",
       "        text-align: right;\n",
       "    }\n",
       "</style>\n",
       "<table border=\"1\" class=\"dataframe\">\n",
       "  <thead>\n",
       "    <tr style=\"text-align: right;\">\n",
       "      <th></th>\n",
       "      <th>VALUE</th>\n",
       "    </tr>\n",
       "    <tr>\n",
       "      <th>PRODUCT</th>\n",
       "      <th></th>\n",
       "    </tr>\n",
       "  </thead>\n",
       "  <tbody>\n",
       "    <tr>\n",
       "      <th>Voice</th>\n",
       "      <td>293816</td>\n",
       "    </tr>\n",
       "    <tr>\n",
       "      <th>SMS</th>\n",
       "      <td>52377</td>\n",
       "    </tr>\n",
       "  </tbody>\n",
       "</table>\n",
       "</div>"
      ],
      "text/plain": [
       "          VALUE\n",
       "PRODUCT        \n",
       "Voice    293816\n",
       "SMS       52377"
      ]
     },
     "execution_count": 416,
     "metadata": {},
     "output_type": "execute_result"
    }
   ],
   "source": [
    "# Higher billing\n",
    "telcom_all[['PRODUCT','VALUE']].groupby(telcom_all['PRODUCT']).sum().sort_values('VALUE', ascending=False)"
   ]
  },
  {
   "cell_type": "markdown",
   "metadata": {},
   "source": [
    "Voice has the highest billing price."
   ]
  },
  {
   "cell_type": "code",
   "execution_count": 420,
   "metadata": {},
   "outputs": [
    {
     "data": {
      "text/plain": [
       "9198"
      ]
     },
     "execution_count": 420,
     "metadata": {},
     "output_type": "execute_result"
    }
   ],
   "source": [
    "# Site with the most subscribers\n",
    "# Phone numbers of local people.\n",
    "locals_num = list(telcom_all['DW_A_NUMBER_INT'].unique())\n",
    "len(locals_num) # 9198 subscribers"
   ]
  },
  {
   "cell_type": "code",
   "execution_count": 436,
   "metadata": {},
   "outputs": [
    {
     "data": {
      "text/plain": [
       "Index(['VILLES', 'STATUS', 'LOCALISATION', 'DECOUPZONE', 'ZONENAME',\n",
       "       'LONGITUDE', 'LATITUDE', 'REGION', 'AREA', 'CELL_ID', 'SITE_CODE'],\n",
       "      dtype='object')"
      ]
     },
     "execution_count": 436,
     "metadata": {},
     "output_type": "execute_result"
    }
   ],
   "source": [
    "# Check columns\n",
    "cells_geo.columns"
   ]
  },
  {
   "cell_type": "code",
   "execution_count": 495,
   "metadata": {},
   "outputs": [
    {
     "data": {
      "text/html": [
       "<div>\n",
       "<style scoped>\n",
       "    .dataframe tbody tr th:only-of-type {\n",
       "        vertical-align: middle;\n",
       "    }\n",
       "\n",
       "    .dataframe tbody tr th {\n",
       "        vertical-align: top;\n",
       "    }\n",
       "\n",
       "    .dataframe thead th {\n",
       "        text-align: right;\n",
       "    }\n",
       "</style>\n",
       "<table border=\"1\" class=\"dataframe\">\n",
       "  <thead>\n",
       "    <tr style=\"text-align: right;\">\n",
       "      <th></th>\n",
       "      <th>VILLES</th>\n",
       "    </tr>\n",
       "    <tr>\n",
       "      <th>ZONENAME</th>\n",
       "      <th></th>\n",
       "    </tr>\n",
       "  </thead>\n",
       "  <tbody>\n",
       "    <tr>\n",
       "      <th>ZONE A - Grand-NORD</th>\n",
       "      <td>441</td>\n",
       "    </tr>\n",
       "    <tr>\n",
       "      <th>ZONE B - Grand-SUD</th>\n",
       "      <td>408</td>\n",
       "    </tr>\n",
       "    <tr>\n",
       "      <th>ZONE D - Grand-OUEST</th>\n",
       "      <td>405</td>\n",
       "    </tr>\n",
       "    <tr>\n",
       "      <th>ZONE B - Abidjan_EST</th>\n",
       "      <td>368</td>\n",
       "    </tr>\n",
       "    <tr>\n",
       "      <th>ZONE C - Abidjan_OUEST</th>\n",
       "      <td>341</td>\n",
       "    </tr>\n",
       "    <tr>\n",
       "      <th>ZONE A - Abidjan_CENTRE</th>\n",
       "      <td>310</td>\n",
       "    </tr>\n",
       "    <tr>\n",
       "      <th>ZONE C - Grand-EST</th>\n",
       "      <td>308</td>\n",
       "    </tr>\n",
       "    <tr>\n",
       "      <th>ZONE E - Abidjan_NORD</th>\n",
       "      <td>289</td>\n",
       "    </tr>\n",
       "    <tr>\n",
       "      <th>ZONE E - SUD-OUEST</th>\n",
       "      <td>285</td>\n",
       "    </tr>\n",
       "    <tr>\n",
       "      <th>ZONE D - Abidjan_SUD</th>\n",
       "      <td>191</td>\n",
       "    </tr>\n",
       "  </tbody>\n",
       "</table>\n",
       "</div>"
      ],
      "text/plain": [
       "                         VILLES\n",
       "ZONENAME                       \n",
       "ZONE A - Grand-NORD         441\n",
       "ZONE B - Grand-SUD          408\n",
       "ZONE D - Grand-OUEST        405\n",
       "ZONE B - Abidjan_EST        368\n",
       "ZONE C - Abidjan_OUEST      341\n",
       "ZONE A - Abidjan_CENTRE     310\n",
       "ZONE C - Grand-EST          308\n",
       "ZONE E - Abidjan_NORD       289\n",
       "ZONE E - SUD-OUEST          285\n",
       "ZONE D - Abidjan_SUD        191"
      ]
     },
     "execution_count": 495,
     "metadata": {},
     "output_type": "execute_result"
    }
   ],
   "source": [
    "# Most active zones\n",
    "pop_site_id = telcom_all[['SITE_ID', 'DW_A_NUMBER_INT']][telcom_all['DW_A_NUMBER_INT'].map(lambda x : x in locals_num)]\n",
    "# List of site IDs\n",
    "ids = list(pop_site_id['SITE_ID'])\n",
    "# Data Frame of sites with the most subscribers\n",
    "sites = list(cells_geo[cells_geo['SITE_CODE'].map(lambda x: x in ids)]['SITE_CODE'])\n",
    "cells_geo[cells_geo['SITE_CODE'].map(lambda x: x in ids)].groupby(cells_geo['ZONENAME']).count()[['VILLES']].sort_values('VILLES', ascending = False).head(10)\n"
   ]
  },
  {
   "cell_type": "markdown",
   "metadata": {},
   "source": [
    "ZONE A - Grand-NORD has the highest number of active subscribers."
   ]
  },
  {
   "cell_type": "code",
   "execution_count": null,
   "metadata": {},
   "outputs": [],
   "source": []
  }
 ],
 "metadata": {
  "interpreter": {
   "hash": "1e915f0a29dc84041eaeb02b7b1a21c440e37a87b61d44d5e84a515737dc82bc"
  },
  "kernelspec": {
   "display_name": "Python 3.8.3 64-bit ('base': conda)",
   "language": "python",
   "name": "python3"
  },
  "language_info": {
   "codemirror_mode": {
    "name": "ipython",
    "version": 3
   },
   "file_extension": ".py",
   "mimetype": "text/x-python",
   "name": "python",
   "nbconvert_exporter": "python",
   "pygments_lexer": "ipython3",
   "version": "3.8.3"
  },
  "orig_nbformat": 4
 },
 "nbformat": 4,
 "nbformat_minor": 2
}
