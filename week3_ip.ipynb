{
 "cells": [
  {
   "cell_type": "markdown",
   "metadata": {},
   "source": [
    "# WEEK 3 IP\n",
    "\n"
   ]
  },
  {
   "cell_type": "markdown",
   "metadata": {},
   "source": [
    "## Importing Libraries"
   ]
  },
  {
   "cell_type": "code",
   "execution_count": 1,
   "metadata": {},
   "outputs": [],
   "source": [
    "# Imports\n",
    "\n",
    "import pandas as pd\n",
    "import numpy as np\n"
   ]
  },
  {
   "cell_type": "markdown",
   "metadata": {},
   "source": [
    "## Dataset Loading\n"
   ]
  },
  {
   "cell_type": "code",
   "execution_count": 2,
   "metadata": {},
   "outputs": [
    {
     "data": {
      "text/html": [
       "<div>\n",
       "<style scoped>\n",
       "    .dataframe tbody tr th:only-of-type {\n",
       "        vertical-align: middle;\n",
       "    }\n",
       "\n",
       "    .dataframe tbody tr th {\n",
       "        vertical-align: top;\n",
       "    }\n",
       "\n",
       "    .dataframe thead th {\n",
       "        text-align: right;\n",
       "    }\n",
       "</style>\n",
       "<table border=\"1\" class=\"dataframe\">\n",
       "  <thead>\n",
       "    <tr style=\"text-align: right;\">\n",
       "      <th></th>\n",
       "      <th>Column name</th>\n",
       "      <th>Description</th>\n",
       "      <th>Format</th>\n",
       "    </tr>\n",
       "  </thead>\n",
       "  <tbody>\n",
       "    <tr>\n",
       "      <th>0</th>\n",
       "      <td>PRODUCT</td>\n",
       "      <td>Voice or SMS</td>\n",
       "      <td>String</td>\n",
       "    </tr>\n",
       "    <tr>\n",
       "      <th>1</th>\n",
       "      <td>VALUE</td>\n",
       "      <td>Billing price</td>\n",
       "      <td>Integer</td>\n",
       "    </tr>\n",
       "    <tr>\n",
       "      <th>2</th>\n",
       "      <td>DATE_TIME</td>\n",
       "      <td>Time in format yyyy-MM-dd hh:mm:ss.0</td>\n",
       "      <td>String</td>\n",
       "    </tr>\n",
       "    <tr>\n",
       "      <th>3</th>\n",
       "      <td>CELL_ON_SITE</td>\n",
       "      <td>Which cell in the site was used (not needed here)</td>\n",
       "      <td>Integer</td>\n",
       "    </tr>\n",
       "    <tr>\n",
       "      <th>4</th>\n",
       "      <td>DW_A_NUMBER_INT</td>\n",
       "      <td>Anonymized phone number of the person for whic...</td>\n",
       "      <td>String</td>\n",
       "    </tr>\n",
       "  </tbody>\n",
       "</table>\n",
       "</div>"
      ],
      "text/plain": [
       "       Column name                                        Description   Format\n",
       "0          PRODUCT                                       Voice or SMS   String\n",
       "1            VALUE                                      Billing price  Integer\n",
       "2        DATE_TIME               Time in format yyyy-MM-dd hh:mm:ss.0   String\n",
       "3     CELL_ON_SITE  Which cell in the site was used (not needed here)  Integer\n",
       "4  DW_A_NUMBER_INT  Anonymized phone number of the person for whic...   String"
      ]
     },
     "execution_count": 2,
     "metadata": {},
     "output_type": "execute_result"
    }
   ],
   "source": [
    "# Creating CDR DataFrame\n",
    "cdr = pd.read_excel('CDR_description.xlsx')\n",
    "cdr.head()\n",
    "\n"
   ]
  },
  {
   "cell_type": "code",
   "execution_count": 3,
   "metadata": {},
   "outputs": [
    {
     "data": {
      "text/html": [
       "<div>\n",
       "<style scoped>\n",
       "    .dataframe tbody tr th:only-of-type {\n",
       "        vertical-align: middle;\n",
       "    }\n",
       "\n",
       "    .dataframe tbody tr th {\n",
       "        vertical-align: top;\n",
       "    }\n",
       "\n",
       "    .dataframe thead th {\n",
       "        text-align: right;\n",
       "    }\n",
       "</style>\n",
       "<table border=\"1\" class=\"dataframe\">\n",
       "  <thead>\n",
       "    <tr style=\"text-align: right;\">\n",
       "      <th></th>\n",
       "      <th>Column name</th>\n",
       "      <th>Description</th>\n",
       "      <th>Format</th>\n",
       "    </tr>\n",
       "  </thead>\n",
       "  <tbody>\n",
       "    <tr>\n",
       "      <th>0</th>\n",
       "      <td>VILLES</td>\n",
       "      <td>City</td>\n",
       "      <td>String</td>\n",
       "    </tr>\n",
       "    <tr>\n",
       "      <th>1</th>\n",
       "      <td>STATUS</td>\n",
       "      <td>In Service or not</td>\n",
       "      <td>String</td>\n",
       "    </tr>\n",
       "    <tr>\n",
       "      <th>2</th>\n",
       "      <td>LOCALISATION</td>\n",
       "      <td>in ABIDJAN or not</td>\n",
       "      <td>String</td>\n",
       "    </tr>\n",
       "    <tr>\n",
       "      <th>3</th>\n",
       "      <td>DECOUPZONE</td>\n",
       "      <td>Geographical Zone</td>\n",
       "      <td>String</td>\n",
       "    </tr>\n",
       "    <tr>\n",
       "      <th>4</th>\n",
       "      <td>ZONENAME</td>\n",
       "      <td>Name of Zone</td>\n",
       "      <td>String</td>\n",
       "    </tr>\n",
       "  </tbody>\n",
       "</table>\n",
       "</div>"
      ],
      "text/plain": [
       "    Column name        Description  Format\n",
       "0        VILLES               City  String\n",
       "1        STATUS  In Service or not  String\n",
       "2  LOCALISATION  in ABIDJAN or not  String\n",
       "3    DECOUPZONE  Geographical Zone  String\n",
       "4      ZONENAME       Name of Zone  String"
      ]
     },
     "execution_count": 3,
     "metadata": {},
     "output_type": "execute_result"
    }
   ],
   "source": [
    "# Creating cells geo description DataFrame\n",
    "cells_desc = pd.read_excel('cells_geo_description.xlsx')\n",
    "cells_desc.head()\n"
   ]
  },
  {
   "cell_type": "code",
   "execution_count": 4,
   "metadata": {},
   "outputs": [
    {
     "data": {
      "text/html": [
       "<div>\n",
       "<style scoped>\n",
       "    .dataframe tbody tr th:only-of-type {\n",
       "        vertical-align: middle;\n",
       "    }\n",
       "\n",
       "    .dataframe tbody tr th {\n",
       "        vertical-align: top;\n",
       "    }\n",
       "\n",
       "    .dataframe thead th {\n",
       "        text-align: right;\n",
       "    }\n",
       "</style>\n",
       "<table border=\"1\" class=\"dataframe\">\n",
       "  <thead>\n",
       "    <tr style=\"text-align: right;\">\n",
       "      <th></th>\n",
       "      <th>Column name</th>\n",
       "      <th>Description</th>\n",
       "      <th>Format</th>\n",
       "    </tr>\n",
       "  </thead>\n",
       "  <tbody>\n",
       "    <tr>\n",
       "      <th>0</th>\n",
       "      <td>VILLES</td>\n",
       "      <td>City</td>\n",
       "      <td>String</td>\n",
       "    </tr>\n",
       "    <tr>\n",
       "      <th>1</th>\n",
       "      <td>STATUS</td>\n",
       "      <td>In Service or not</td>\n",
       "      <td>String</td>\n",
       "    </tr>\n",
       "    <tr>\n",
       "      <th>2</th>\n",
       "      <td>LOCALISATION</td>\n",
       "      <td>in ABIDJAN or not</td>\n",
       "      <td>String</td>\n",
       "    </tr>\n",
       "    <tr>\n",
       "      <th>3</th>\n",
       "      <td>DECOUPZONE</td>\n",
       "      <td>Geographical Zone</td>\n",
       "      <td>String</td>\n",
       "    </tr>\n",
       "    <tr>\n",
       "      <th>4</th>\n",
       "      <td>ZONENAME</td>\n",
       "      <td>Name of Zone</td>\n",
       "      <td>String</td>\n",
       "    </tr>\n",
       "  </tbody>\n",
       "</table>\n",
       "</div>"
      ],
      "text/plain": [
       "    Column name        Description  Format\n",
       "0        VILLES               City  String\n",
       "1        STATUS  In Service or not  String\n",
       "2  LOCALISATION  in ABIDJAN or not  String\n",
       "3    DECOUPZONE  Geographical Zone  String\n",
       "4      ZONENAME       Name of Zone  String"
      ]
     },
     "execution_count": 4,
     "metadata": {},
     "output_type": "execute_result"
    }
   ],
   "source": [
    "# Creating cells geo DataFrame\n",
    "cells_geo = pd.read_csv('cells_geo.csv', sep = ';')\n",
    "cells_desc.head()\n"
   ]
  },
  {
   "cell_type": "code",
   "execution_count": 28,
   "metadata": {},
   "outputs": [
    {
     "data": {
      "text/html": [
       "<div>\n",
       "<style scoped>\n",
       "    .dataframe tbody tr th:only-of-type {\n",
       "        vertical-align: middle;\n",
       "    }\n",
       "\n",
       "    .dataframe tbody tr th {\n",
       "        vertical-align: top;\n",
       "    }\n",
       "\n",
       "    .dataframe thead th {\n",
       "        text-align: right;\n",
       "    }\n",
       "</style>\n",
       "<table border=\"1\" class=\"dataframe\">\n",
       "  <thead>\n",
       "    <tr style=\"text-align: right;\">\n",
       "      <th></th>\n",
       "      <th>PRODUTC</th>\n",
       "      <th>VALUE</th>\n",
       "      <th>DATETIME</th>\n",
       "      <th>CELL_ON_SITE</th>\n",
       "      <th>DW_A_NUMBER_INT</th>\n",
       "      <th>DW_B_NUMBER_INT</th>\n",
       "      <th>COUNTRY_A</th>\n",
       "      <th>COUNTRY_B</th>\n",
       "      <th>CELL_ID</th>\n",
       "      <th>SITE_ID</th>\n",
       "    </tr>\n",
       "  </thead>\n",
       "  <tbody>\n",
       "    <tr>\n",
       "      <th>0</th>\n",
       "      <td>Voice</td>\n",
       "      <td>0</td>\n",
       "      <td>2012-05-06 23:04:37.0</td>\n",
       "      <td>1</td>\n",
       "      <td>49fae048b547780</td>\n",
       "      <td>1a49f8b0ded9de6</td>\n",
       "      <td>19e2e</td>\n",
       "      <td>19e2e</td>\n",
       "      <td>/TJNe+Mmtu</td>\n",
       "      <td>/TJNe+Mmtu</td>\n",
       "    </tr>\n",
       "    <tr>\n",
       "      <th>1</th>\n",
       "      <td>sms</td>\n",
       "      <td>0</td>\n",
       "      <td>2012-05-06 23:05:25.0</td>\n",
       "      <td>0</td>\n",
       "      <td>7a54a6eaee19e65</td>\n",
       "      <td>93343ba6e41af95</td>\n",
       "      <td>19e2e</td>\n",
       "      <td>19e2e</td>\n",
       "      <td>/+cKZKIp41</td>\n",
       "      <td>/+cKZKIp41</td>\n",
       "    </tr>\n",
       "    <tr>\n",
       "      <th>2</th>\n",
       "      <td>sms</td>\n",
       "      <td>25</td>\n",
       "      <td>2012-05-06 23:05:41.0</td>\n",
       "      <td>0</td>\n",
       "      <td>6008887b0207d82</td>\n",
       "      <td>7aacc9709ce0a20</td>\n",
       "      <td>19e2e</td>\n",
       "      <td>19e2e</td>\n",
       "      <td>/u0FSD+ahi</td>\n",
       "      <td>/u0FSD+ahi</td>\n",
       "    </tr>\n",
       "    <tr>\n",
       "      <th>3</th>\n",
       "      <td>Voice</td>\n",
       "      <td>56</td>\n",
       "      <td>2012-05-06 23:05:42.0</td>\n",
       "      <td>1</td>\n",
       "      <td>7370032e20f4e96</td>\n",
       "      <td>6af4a60e74c91d3</td>\n",
       "      <td>19e2e</td>\n",
       "      <td>19e2e</td>\n",
       "      <td>+cNeJzsTp3</td>\n",
       "      <td>+cNeJzsTp3</td>\n",
       "    </tr>\n",
       "    <tr>\n",
       "      <th>4</th>\n",
       "      <td>Voice</td>\n",
       "      <td>14</td>\n",
       "      <td>2012-05-06 23:06:29.0</td>\n",
       "      <td>1</td>\n",
       "      <td>966ba4656e38e62</td>\n",
       "      <td>02aa736ee555d5c</td>\n",
       "      <td>19e2e</td>\n",
       "      <td>19e2e</td>\n",
       "      <td>051KhYDCpv</td>\n",
       "      <td>051KhYDCpv</td>\n",
       "    </tr>\n",
       "  </tbody>\n",
       "</table>\n",
       "</div>"
      ],
      "text/plain": [
       "  PRODUTC  VALUE               DATETIME CELL_ON_SITE  DW_A_NUMBER_INT  \\\n",
       "0   Voice      0  2012-05-06 23:04:37.0            1  49fae048b547780   \n",
       "1     sms      0  2012-05-06 23:05:25.0            0  7a54a6eaee19e65   \n",
       "2     sms     25  2012-05-06 23:05:41.0            0  6008887b0207d82   \n",
       "3   Voice     56  2012-05-06 23:05:42.0            1  7370032e20f4e96   \n",
       "4   Voice     14  2012-05-06 23:06:29.0            1  966ba4656e38e62   \n",
       "\n",
       "   DW_B_NUMBER_INT COUNTRY_A COUNTRY_B     CELL_ID     SITE_ID  \n",
       "0  1a49f8b0ded9de6     19e2e     19e2e  /TJNe+Mmtu  /TJNe+Mmtu  \n",
       "1  93343ba6e41af95     19e2e     19e2e  /+cKZKIp41  /+cKZKIp41  \n",
       "2  7aacc9709ce0a20     19e2e     19e2e  /u0FSD+ahi  /u0FSD+ahi  \n",
       "3  6af4a60e74c91d3     19e2e     19e2e  +cNeJzsTp3  +cNeJzsTp3  \n",
       "4  02aa736ee555d5c     19e2e     19e2e  051KhYDCpv  051KhYDCpv  "
      ]
     },
     "execution_count": 28,
     "metadata": {},
     "output_type": "execute_result"
    }
   ],
   "source": [
    "# Creating Telcom 1 DataFrame\n",
    "telcom1 = pd.read_csv('Telcom_dataset.csv')\n",
    "telcom1.head()\n",
    "\n"
   ]
  },
  {
   "cell_type": "code",
   "execution_count": 22,
   "metadata": {},
   "outputs": [
    {
     "data": {
      "text/html": [
       "<div>\n",
       "<style scoped>\n",
       "    .dataframe tbody tr th:only-of-type {\n",
       "        vertical-align: middle;\n",
       "    }\n",
       "\n",
       "    .dataframe tbody tr th {\n",
       "        vertical-align: top;\n",
       "    }\n",
       "\n",
       "    .dataframe thead th {\n",
       "        text-align: right;\n",
       "    }\n",
       "</style>\n",
       "<table border=\"1\" class=\"dataframe\">\n",
       "  <thead>\n",
       "    <tr style=\"text-align: right;\">\n",
       "      <th></th>\n",
       "      <th>PRODUCT</th>\n",
       "      <th>VALUE</th>\n",
       "      <th>DATE_TIME</th>\n",
       "      <th>CELL_ON_SITE</th>\n",
       "      <th>DW_A_NUMBER</th>\n",
       "      <th>DW_B_NUMBER</th>\n",
       "      <th>COUNTRY_A</th>\n",
       "      <th>COUNTRY_B</th>\n",
       "      <th>CELL_ID</th>\n",
       "      <th>SITE_ID</th>\n",
       "    </tr>\n",
       "  </thead>\n",
       "  <tbody>\n",
       "    <tr>\n",
       "      <th>0</th>\n",
       "      <td>sms</td>\n",
       "      <td>0</td>\n",
       "      <td>2012-05-07 23:02:06.0</td>\n",
       "      <td>2</td>\n",
       "      <td>32255675c3b6fe3</td>\n",
       "      <td>1aa7ae01386e9fb</td>\n",
       "      <td>19e2e</td>\n",
       "      <td>19e2e</td>\n",
       "      <td>+854AcBQT2</td>\n",
       "      <td>+854AcBQT2</td>\n",
       "    </tr>\n",
       "    <tr>\n",
       "      <th>1</th>\n",
       "      <td>Voice</td>\n",
       "      <td>0</td>\n",
       "      <td>2012-05-07 23:03:44.0</td>\n",
       "      <td>1</td>\n",
       "      <td>ff16d6ac74c1c64</td>\n",
       "      <td>87d87309c15a8c9</td>\n",
       "      <td>19e2e</td>\n",
       "      <td>19e2e</td>\n",
       "      <td>+854AcBQT2</td>\n",
       "      <td>+854AcBQT2</td>\n",
       "    </tr>\n",
       "    <tr>\n",
       "      <th>2</th>\n",
       "      <td>sms</td>\n",
       "      <td>0</td>\n",
       "      <td>2012-05-07 23:04:06.0</td>\n",
       "      <td>0</td>\n",
       "      <td>98d9f2fb5ff624b</td>\n",
       "      <td>93343ba6e41af95</td>\n",
       "      <td>19e2e</td>\n",
       "      <td>19e2e</td>\n",
       "      <td>+laSrk7g6q</td>\n",
       "      <td>+laSrk7g6q</td>\n",
       "    </tr>\n",
       "    <tr>\n",
       "      <th>3</th>\n",
       "      <td>Voice</td>\n",
       "      <td>37</td>\n",
       "      <td>2012-05-07 23:04:48.0</td>\n",
       "      <td>1</td>\n",
       "      <td>3f9c8a33ec7be1f</td>\n",
       "      <td>7d05a38f89c49d8</td>\n",
       "      <td>19e2e</td>\n",
       "      <td>19e2e</td>\n",
       "      <td>/xvRrCVKoQ</td>\n",
       "      <td>/xvRrCVKoQ</td>\n",
       "    </tr>\n",
       "    <tr>\n",
       "      <th>4</th>\n",
       "      <td>sms</td>\n",
       "      <td>25</td>\n",
       "      <td>2012-05-07 23:04:58.0</td>\n",
       "      <td>1</td>\n",
       "      <td>7bcccc03adf3864</td>\n",
       "      <td>56a5d5430d2fa86</td>\n",
       "      <td>19e2e</td>\n",
       "      <td>19e2e</td>\n",
       "      <td>+bO+qkSonO</td>\n",
       "      <td>+bO+qkSonO</td>\n",
       "    </tr>\n",
       "  </tbody>\n",
       "</table>\n",
       "</div>"
      ],
      "text/plain": [
       "  PRODUCT  VALUE              DATE_TIME CELL_ON_SITE      DW_A_NUMBER  \\\n",
       "0     sms      0  2012-05-07 23:02:06.0            2  32255675c3b6fe3   \n",
       "1   Voice      0  2012-05-07 23:03:44.0            1  ff16d6ac74c1c64   \n",
       "2     sms      0  2012-05-07 23:04:06.0            0  98d9f2fb5ff624b   \n",
       "3   Voice     37  2012-05-07 23:04:48.0            1  3f9c8a33ec7be1f   \n",
       "4     sms     25  2012-05-07 23:04:58.0            1  7bcccc03adf3864   \n",
       "\n",
       "       DW_B_NUMBER COUNTRY_A COUNTRY_B     CELL_ID     SITE_ID  \n",
       "0  1aa7ae01386e9fb     19e2e     19e2e  +854AcBQT2  +854AcBQT2  \n",
       "1  87d87309c15a8c9     19e2e     19e2e  +854AcBQT2  +854AcBQT2  \n",
       "2  93343ba6e41af95     19e2e     19e2e  +laSrk7g6q  +laSrk7g6q  \n",
       "3  7d05a38f89c49d8     19e2e     19e2e  /xvRrCVKoQ  /xvRrCVKoQ  \n",
       "4  56a5d5430d2fa86     19e2e     19e2e  +bO+qkSonO  +bO+qkSonO  "
      ]
     },
     "execution_count": 22,
     "metadata": {},
     "output_type": "execute_result"
    }
   ],
   "source": [
    "# Creating Telcom 2 DataFrame\n",
    "telcom2 = pd.read_csv('Telcom_dataset2.csv')\n",
    "telcom2.head()\n"
   ]
  },
  {
   "cell_type": "code",
   "execution_count": 7,
   "metadata": {},
   "outputs": [
    {
     "data": {
      "text/html": [
       "<div>\n",
       "<style scoped>\n",
       "    .dataframe tbody tr th:only-of-type {\n",
       "        vertical-align: middle;\n",
       "    }\n",
       "\n",
       "    .dataframe tbody tr th {\n",
       "        vertical-align: top;\n",
       "    }\n",
       "\n",
       "    .dataframe thead th {\n",
       "        text-align: right;\n",
       "    }\n",
       "</style>\n",
       "<table border=\"1\" class=\"dataframe\">\n",
       "  <thead>\n",
       "    <tr style=\"text-align: right;\">\n",
       "      <th></th>\n",
       "      <th>PRODUCT</th>\n",
       "      <th>VALUE</th>\n",
       "      <th>DATE_TIME</th>\n",
       "      <th>CELL_ON_SITE</th>\n",
       "      <th>DW_A_NUMBER_INT</th>\n",
       "      <th>DW_B_NUMBER_INT</th>\n",
       "      <th>COUNTRY_A</th>\n",
       "      <th>COUNTRY_B</th>\n",
       "      <th>CELLID</th>\n",
       "      <th>SIET_ID</th>\n",
       "    </tr>\n",
       "  </thead>\n",
       "  <tbody>\n",
       "    <tr>\n",
       "      <th>0</th>\n",
       "      <td>Voice</td>\n",
       "      <td>61</td>\n",
       "      <td>2012-05-08 23:01:28.0</td>\n",
       "      <td>2</td>\n",
       "      <td>966f68353622feb</td>\n",
       "      <td>ffd53a3bb2db6f1</td>\n",
       "      <td>19e2e</td>\n",
       "      <td>19e2e</td>\n",
       "      <td>+38u2u/rfx</td>\n",
       "      <td>+38u2u/rfx</td>\n",
       "    </tr>\n",
       "    <tr>\n",
       "      <th>1</th>\n",
       "      <td>sms</td>\n",
       "      <td>0</td>\n",
       "      <td>2012-05-08 23:01:31.0</td>\n",
       "      <td>1</td>\n",
       "      <td>a0a597384c612d7</td>\n",
       "      <td>cf3b218f1dde792</td>\n",
       "      <td>19e2e</td>\n",
       "      <td>19e2e</td>\n",
       "      <td>+Fs4mTvdKx</td>\n",
       "      <td>+Fs4mTvdKx</td>\n",
       "    </tr>\n",
       "    <tr>\n",
       "      <th>2</th>\n",
       "      <td>Voice</td>\n",
       "      <td>10</td>\n",
       "      <td>2012-05-08 23:02:59.0</td>\n",
       "      <td>1</td>\n",
       "      <td>5441a9a58c97132</td>\n",
       "      <td>52f8b299515b9b7</td>\n",
       "      <td>19e2e</td>\n",
       "      <td>19e2e</td>\n",
       "      <td>+ZaaZozy/+</td>\n",
       "      <td>+ZaaZozy/+</td>\n",
       "    </tr>\n",
       "    <tr>\n",
       "      <th>3</th>\n",
       "      <td>sms</td>\n",
       "      <td>0</td>\n",
       "      <td>2012-05-08 23:03:04.0</td>\n",
       "      <td>0</td>\n",
       "      <td>8ab8b9ed6989f61</td>\n",
       "      <td>e09e736e46c5c3d</td>\n",
       "      <td>19e2e</td>\n",
       "      <td>19e2e</td>\n",
       "      <td>+cNeJzsTp3</td>\n",
       "      <td>+cNeJzsTp3</td>\n",
       "    </tr>\n",
       "    <tr>\n",
       "      <th>4</th>\n",
       "      <td>Voice</td>\n",
       "      <td>22</td>\n",
       "      <td>2012-05-08 23:03:16.0</td>\n",
       "      <td>4</td>\n",
       "      <td>52662a62b199334</td>\n",
       "      <td>2186273faab4602</td>\n",
       "      <td>19e2e</td>\n",
       "      <td>19e2e</td>\n",
       "      <td>/eeMklgyJA</td>\n",
       "      <td>/eeMklgyJA</td>\n",
       "    </tr>\n",
       "  </tbody>\n",
       "</table>\n",
       "</div>"
      ],
      "text/plain": [
       "  PRODUCT  VALUE              DATE_TIME CELL_ON_SITE  DW_A_NUMBER_INT  \\\n",
       "0   Voice     61  2012-05-08 23:01:28.0            2  966f68353622feb   \n",
       "1     sms      0  2012-05-08 23:01:31.0            1  a0a597384c612d7   \n",
       "2   Voice     10  2012-05-08 23:02:59.0            1  5441a9a58c97132   \n",
       "3     sms      0  2012-05-08 23:03:04.0            0  8ab8b9ed6989f61   \n",
       "4   Voice     22  2012-05-08 23:03:16.0            4  52662a62b199334   \n",
       "\n",
       "   DW_B_NUMBER_INT COUNTRY_A COUNTRY_B      CELLID     SIET_ID  \n",
       "0  ffd53a3bb2db6f1     19e2e     19e2e  +38u2u/rfx  +38u2u/rfx  \n",
       "1  cf3b218f1dde792     19e2e     19e2e  +Fs4mTvdKx  +Fs4mTvdKx  \n",
       "2  52f8b299515b9b7     19e2e     19e2e  +ZaaZozy/+  +ZaaZozy/+  \n",
       "3  e09e736e46c5c3d     19e2e     19e2e  +cNeJzsTp3  +cNeJzsTp3  \n",
       "4  2186273faab4602     19e2e     19e2e  /eeMklgyJA  /eeMklgyJA  "
      ]
     },
     "execution_count": 7,
     "metadata": {},
     "output_type": "execute_result"
    }
   ],
   "source": [
    "# Creating Telcom 1 DataFrame\n",
    "telcom3 = pd.read_csv('Telcom_dataset3.csv')\n",
    "telcom3.head()"
   ]
  },
  {
   "cell_type": "markdown",
   "metadata": {},
   "source": [
    "## Data Exploration and Cleaning"
   ]
  },
  {
   "cell_type": "markdown",
   "metadata": {},
   "source": [
    "### Telcom1"
   ]
  },
  {
   "cell_type": "code",
   "execution_count": 29,
   "metadata": {},
   "outputs": [
    {
     "name": "stdout",
     "output_type": "stream",
     "text": [
      "<class 'pandas.core.frame.DataFrame'>\n",
      "RangeIndex: 5001 entries, 0 to 5000\n",
      "Data columns (total 10 columns):\n",
      " #   Column           Non-Null Count  Dtype \n",
      "---  ------           --------------  ----- \n",
      " 0   PRODUTC          5001 non-null   object\n",
      " 1   VALUE            5001 non-null   int64 \n",
      " 2   DATETIME         5001 non-null   object\n",
      " 3   CELL_ON_SITE     5001 non-null   object\n",
      " 4   DW_A_NUMBER_INT  5001 non-null   object\n",
      " 5   DW_B_NUMBER_INT  5001 non-null   object\n",
      " 6   COUNTRY_A        5001 non-null   object\n",
      " 7   COUNTRY_B        5001 non-null   object\n",
      " 8   CELL_ID          5001 non-null   object\n",
      " 9   SITE_ID          4285 non-null   object\n",
      "dtypes: int64(1), object(9)\n",
      "memory usage: 390.8+ KB\n"
     ]
    }
   ],
   "source": [
    "# Telcom 1 \n",
    "telcom1.info()"
   ]
  },
  {
   "cell_type": "code",
   "execution_count": 30,
   "metadata": {},
   "outputs": [],
   "source": [
    "# Dropping nan values\n",
    "telcom1.dropna(inplace=True)"
   ]
  },
  {
   "cell_type": "code",
   "execution_count": 35,
   "metadata": {},
   "outputs": [],
   "source": [
    "# Checking for, and removing duplicates.\n",
    "telcom1.duplicated().any().any() # True\n",
    "telcom1.drop_duplicates(inplace=True)"
   ]
  },
  {
   "cell_type": "code",
   "execution_count": 36,
   "metadata": {},
   "outputs": [
    {
     "name": "stdout",
     "output_type": "stream",
     "text": [
      "<class 'pandas.core.frame.DataFrame'>\n",
      "Int64Index: 4215 entries, 0 to 5000\n",
      "Data columns (total 10 columns):\n",
      " #   Column           Non-Null Count  Dtype \n",
      "---  ------           --------------  ----- \n",
      " 0   PRODUTC          4215 non-null   object\n",
      " 1   VALUE            4215 non-null   int64 \n",
      " 2   DATETIME         4215 non-null   object\n",
      " 3   CELL_ON_SITE     4215 non-null   object\n",
      " 4   DW_A_NUMBER_INT  4215 non-null   object\n",
      " 5   DW_B_NUMBER_INT  4215 non-null   object\n",
      " 6   COUNTRY_A        4215 non-null   object\n",
      " 7   COUNTRY_B        4215 non-null   object\n",
      " 8   CELL_ID          4215 non-null   object\n",
      " 9   SITE_ID          4215 non-null   object\n",
      "dtypes: int64(1), object(9)\n",
      "memory usage: 362.2+ KB\n"
     ]
    }
   ],
   "source": [
    "# Check changes\n",
    "telcom1.info()"
   ]
  },
  {
   "cell_type": "code",
   "execution_count": 56,
   "metadata": {},
   "outputs": [
    {
     "data": {
      "text/plain": [
       "Index(['PRODUCT', 'VALUE', 'DATE_TIME', 'CELL_ON_SITE', 'DW_A_NUMBER_INT',\n",
       "       'DW_B_NUMBER_INT', 'COUNTRY_A', 'COUNTRY_B', 'CELL_ID', 'SITE_ID'],\n",
       "      dtype='object')"
      ]
     },
     "execution_count": 56,
     "metadata": {},
     "output_type": "execute_result"
    }
   ],
   "source": [
    "# Change column name as per excel sheet specifications.\n",
    "telcom1.rename(columns = {'PRODUTC':'PRODUCT', 'DATETIME': 'DATE_TIME'}, inplace  = True)\n",
    "# Check changes\n",
    "telcom1.columns"
   ]
  },
  {
   "cell_type": "code",
   "execution_count": 80,
   "metadata": {},
   "outputs": [
    {
     "data": {
      "text/plain": [
       "array(['Voice', 'SMS'], dtype=object)"
      ]
     },
     "execution_count": 80,
     "metadata": {},
     "output_type": "execute_result"
    }
   ],
   "source": [
    "# Change column values as per excel sheet specifications.\n",
    "\n",
    "telcom1['PRODUCT'].replace(\"sms\", \"SMS\", inplace=True)\n",
    "telcom1['PRODUCT'].unique()\n"
   ]
  },
  {
   "cell_type": "code",
   "execution_count": 69,
   "metadata": {},
   "outputs": [
    {
     "name": "stderr",
     "output_type": "stream",
     "text": [
      "C:\\Users\\HP\\anaconda3\\lib\\site-packages\\pandas\\core\\ops\\array_ops.py:253: FutureWarning: elementwise comparison failed; returning scalar instead, but in the future will perform elementwise comparison\n",
      "  res_values = method(rvalues)\n"
     ]
    },
    {
     "data": {
      "text/plain": [
       "dtype('int64')"
      ]
     },
     "execution_count": 69,
     "metadata": {},
     "output_type": "execute_result"
    }
   ],
   "source": [
    "# Change data types as per excel sheet specifications.\n",
    "\n",
    "# Check for unwanted values.\n",
    "telcom1['CELL_ON_SITE'].unique()\n",
    "# Check number \n",
    "len(telcom1[telcom1['CELL_ON_SITE']== '_']) # = 92\n",
    "# Drop invalid entries\n",
    "telcom1 = telcom1[telcom1['CELL_ON_SITE'] != '_']\n",
    "telcom1['CELL_ON_SITE'].unique()\n",
    "# Change to integer dtype\n",
    "telcom1['CELL_ON_SITE'] = telcom1['CELL_ON_SITE'].astype('int64')\n",
    "telcom1['CELL_ON_SITE'].dtype"
   ]
  },
  {
   "cell_type": "markdown",
   "metadata": {},
   "source": [
    "### Telcom2"
   ]
  },
  {
   "cell_type": "code",
   "execution_count": 31,
   "metadata": {},
   "outputs": [
    {
     "name": "stdout",
     "output_type": "stream",
     "text": [
      "<class 'pandas.core.frame.DataFrame'>\n",
      "RangeIndex: 5001 entries, 0 to 5000\n",
      "Data columns (total 10 columns):\n",
      " #   Column        Non-Null Count  Dtype \n",
      "---  ------        --------------  ----- \n",
      " 0   PRODUCT       5001 non-null   object\n",
      " 1   VALUE         5001 non-null   int64 \n",
      " 2   DATE_TIME     5001 non-null   object\n",
      " 3   CELL_ON_SITE  5001 non-null   object\n",
      " 4   DW_A_NUMBER   5001 non-null   object\n",
      " 5   DW_B_NUMBER   5001 non-null   object\n",
      " 6   COUNTRY_A     5001 non-null   object\n",
      " 7   COUNTRY_B     5001 non-null   object\n",
      " 8   CELL_ID       5001 non-null   object\n",
      " 9   SITE_ID       4325 non-null   object\n",
      "dtypes: int64(1), object(9)\n",
      "memory usage: 390.8+ KB\n"
     ]
    }
   ],
   "source": [
    "# Telcom 2\n",
    "telcom2.info()"
   ]
  },
  {
   "cell_type": "code",
   "execution_count": 32,
   "metadata": {},
   "outputs": [],
   "source": [
    "# Dropping nan values\n",
    "telcom2.dropna(inplace=True)"
   ]
  },
  {
   "cell_type": "code",
   "execution_count": 39,
   "metadata": {},
   "outputs": [],
   "source": [
    "# Checking for, and removing duplicates.\n",
    "telcom2.duplicated().any().any() # True\n",
    "telcom2.drop_duplicates(inplace=True)"
   ]
  },
  {
   "cell_type": "code",
   "execution_count": 57,
   "metadata": {},
   "outputs": [
    {
     "data": {
      "text/plain": [
       "Index(['PRODUCT', 'VALUE', 'DATE_TIME', 'CELL_ON_SITE', 'DW_A_NUMBER_INT',\n",
       "       'DW_B_NUMBER_INT', 'COUNTRY_A', 'COUNTRY_B', 'CELL_ID', 'SITE_ID'],\n",
       "      dtype='object')"
      ]
     },
     "execution_count": 57,
     "metadata": {},
     "output_type": "execute_result"
    }
   ],
   "source": [
    "# Change column names\n",
    "telcom2.rename(columns = {'DW_A_NUMBER':'DW_A_NUMBER_INT', 'DW_B_NUMBER': 'DW_B_NUMBER_INT'}, inplace  = True)\n",
    "# Check changes.\n",
    "telcom2.columns"
   ]
  },
  {
   "cell_type": "code",
   "execution_count": 81,
   "metadata": {},
   "outputs": [
    {
     "data": {
      "text/plain": [
       "array(['SMS', 'Voice'], dtype=object)"
      ]
     },
     "execution_count": 81,
     "metadata": {},
     "output_type": "execute_result"
    }
   ],
   "source": [
    "# Change column values as per excel sheet specifications.\n",
    "\n",
    "telcom2['PRODUCT'].replace(\"sms\", \"SMS\", inplace=True)\n",
    "telcom2['PRODUCT'].unique()"
   ]
  },
  {
   "cell_type": "code",
   "execution_count": 73,
   "metadata": {},
   "outputs": [
    {
     "data": {
      "text/plain": [
       "dtype('int64')"
      ]
     },
     "execution_count": 73,
     "metadata": {},
     "output_type": "execute_result"
    }
   ],
   "source": [
    "# Change data types as per excel sheet specifications.\n",
    "\n",
    "# Check for unwanted values.\n",
    "telcom2['CELL_ON_SITE'].unique()\n",
    "# Check number \n",
    "len(telcom2[telcom2['CELL_ON_SITE']== '_']) # 90\n",
    "# Drop invalid entries\n",
    "telcom2 = telcom2[telcom2['CELL_ON_SITE'] != '_']\n",
    "telcom2['CELL_ON_SITE'].unique()\n",
    "# Change to integer dtype\n",
    "telcom2['CELL_ON_SITE'] = telcom2['CELL_ON_SITE'].astype('int64')\n",
    "telcom2['CELL_ON_SITE'].dtype"
   ]
  },
  {
   "cell_type": "markdown",
   "metadata": {},
   "source": [
    "### Telcom3"
   ]
  },
  {
   "cell_type": "code",
   "execution_count": 40,
   "metadata": {},
   "outputs": [
    {
     "name": "stdout",
     "output_type": "stream",
     "text": [
      "<class 'pandas.core.frame.DataFrame'>\n",
      "RangeIndex: 5001 entries, 0 to 5000\n",
      "Data columns (total 10 columns):\n",
      " #   Column           Non-Null Count  Dtype \n",
      "---  ------           --------------  ----- \n",
      " 0   PRODUCT          5001 non-null   object\n",
      " 1   VALUE            5001 non-null   int64 \n",
      " 2   DATE_TIME        5001 non-null   object\n",
      " 3   CELL_ON_SITE     5001 non-null   object\n",
      " 4   DW_A_NUMBER_INT  5001 non-null   object\n",
      " 5   DW_B_NUMBER_INT  5001 non-null   object\n",
      " 6   COUNTRY_A        5001 non-null   object\n",
      " 7   COUNTRY_B        5001 non-null   object\n",
      " 8   CELLID           5001 non-null   object\n",
      " 9   SIET_ID          4396 non-null   object\n",
      "dtypes: int64(1), object(9)\n",
      "memory usage: 390.8+ KB\n"
     ]
    }
   ],
   "source": [
    "# Telcom 3\n",
    "telcom3.info()"
   ]
  },
  {
   "cell_type": "code",
   "execution_count": 41,
   "metadata": {},
   "outputs": [],
   "source": [
    "# Dropping nan values\n",
    "telcom3.dropna(inplace=True)"
   ]
  },
  {
   "cell_type": "code",
   "execution_count": 44,
   "metadata": {},
   "outputs": [],
   "source": [
    "# Checking for, and removing duplicates.\n",
    "telcom3.duplicated().any().any() # Trueb\n",
    "telcom3.drop_duplicates(inplace=True)"
   ]
  },
  {
   "cell_type": "code",
   "execution_count": 96,
   "metadata": {},
   "outputs": [
    {
     "data": {
      "text/plain": [
       "Index(['PRODUCT', 'VALUE', 'DATE_TIME', 'CELL_ON_SITE', 'DW_A_NUMBER_INT',\n",
       "       'DW_B_NUMBER_INT', 'COUNTRY_A', 'COUNTRY_B', 'CELL_ID', 'SITE_ID'],\n",
       "      dtype='object')"
      ]
     },
     "execution_count": 96,
     "metadata": {},
     "output_type": "execute_result"
    }
   ],
   "source": [
    "# Change column names\n",
    "telcom3.rename(columns = {'CELLID':'CELL_ID', 'SIET_ID': 'SITE_ID'}, inplace  = True)\n",
    "# Check changes.\n",
    "telcom3.columns"
   ]
  },
  {
   "cell_type": "code",
   "execution_count": 82,
   "metadata": {},
   "outputs": [
    {
     "data": {
      "text/plain": [
       "array(['Voice', 'SMS'], dtype=object)"
      ]
     },
     "execution_count": 82,
     "metadata": {},
     "output_type": "execute_result"
    }
   ],
   "source": [
    "# Change column values as per excel sheet specifications.\n",
    "\n",
    "telcom3['PRODUCT'].replace(\"sms\", \"SMS\", inplace=True)\n",
    "telcom3['PRODUCT'].unique()"
   ]
  },
  {
   "cell_type": "code",
   "execution_count": 78,
   "metadata": {},
   "outputs": [
    {
     "data": {
      "text/plain": [
       "dtype('int64')"
      ]
     },
     "execution_count": 78,
     "metadata": {},
     "output_type": "execute_result"
    }
   ],
   "source": [
    "# Change data types as per excel sheet specifications.\n",
    "\n",
    "# Check for unwanted values.\n",
    "telcom3['CELL_ON_SITE'].unique()\n",
    "# Check number \n",
    "len(telcom3[telcom3['CELL_ON_SITE']== '_']) # 89\n",
    "# Drop invalid entries\n",
    "telcom3 = telcom3[telcom3['CELL_ON_SITE'] != '_']\n",
    "telcom3['CELL_ON_SITE'].unique()\n",
    "# Change to integer dtype\n",
    "telcom3['CELL_ON_SITE'] = telcom3['CELL_ON_SITE'].astype('int64')\n",
    "telcom3['CELL_ON_SITE'].dtype"
   ]
  },
  {
   "cell_type": "markdown",
   "metadata": {},
   "source": [
    "### Merging"
   ]
  },
  {
   "cell_type": "code",
   "execution_count": 97,
   "metadata": {},
   "outputs": [
    {
     "data": {
      "text/html": [
       "<div>\n",
       "<style scoped>\n",
       "    .dataframe tbody tr th:only-of-type {\n",
       "        vertical-align: middle;\n",
       "    }\n",
       "\n",
       "    .dataframe tbody tr th {\n",
       "        vertical-align: top;\n",
       "    }\n",
       "\n",
       "    .dataframe thead th {\n",
       "        text-align: right;\n",
       "    }\n",
       "</style>\n",
       "<table border=\"1\" class=\"dataframe\">\n",
       "  <thead>\n",
       "    <tr style=\"text-align: right;\">\n",
       "      <th></th>\n",
       "      <th>PRODUCT</th>\n",
       "      <th>VALUE</th>\n",
       "      <th>DATE_TIME</th>\n",
       "      <th>CELL_ON_SITE</th>\n",
       "      <th>DW_A_NUMBER_INT</th>\n",
       "      <th>DW_B_NUMBER_INT</th>\n",
       "      <th>COUNTRY_A</th>\n",
       "      <th>COUNTRY_B</th>\n",
       "      <th>CELL_ID</th>\n",
       "      <th>SITE_ID</th>\n",
       "    </tr>\n",
       "  </thead>\n",
       "  <tbody>\n",
       "    <tr>\n",
       "      <th>0</th>\n",
       "      <td>Voice</td>\n",
       "      <td>0</td>\n",
       "      <td>2012-05-06 23:04:37.0</td>\n",
       "      <td>1</td>\n",
       "      <td>49fae048b547780</td>\n",
       "      <td>1a49f8b0ded9de6</td>\n",
       "      <td>19e2e</td>\n",
       "      <td>19e2e</td>\n",
       "      <td>/TJNe+Mmtu</td>\n",
       "      <td>/TJNe+Mmtu</td>\n",
       "    </tr>\n",
       "    <tr>\n",
       "      <th>1</th>\n",
       "      <td>SMS</td>\n",
       "      <td>0</td>\n",
       "      <td>2012-05-06 23:05:25.0</td>\n",
       "      <td>0</td>\n",
       "      <td>7a54a6eaee19e65</td>\n",
       "      <td>93343ba6e41af95</td>\n",
       "      <td>19e2e</td>\n",
       "      <td>19e2e</td>\n",
       "      <td>/+cKZKIp41</td>\n",
       "      <td>/+cKZKIp41</td>\n",
       "    </tr>\n",
       "    <tr>\n",
       "      <th>2</th>\n",
       "      <td>SMS</td>\n",
       "      <td>25</td>\n",
       "      <td>2012-05-06 23:05:41.0</td>\n",
       "      <td>0</td>\n",
       "      <td>6008887b0207d82</td>\n",
       "      <td>7aacc9709ce0a20</td>\n",
       "      <td>19e2e</td>\n",
       "      <td>19e2e</td>\n",
       "      <td>/u0FSD+ahi</td>\n",
       "      <td>/u0FSD+ahi</td>\n",
       "    </tr>\n",
       "    <tr>\n",
       "      <th>3</th>\n",
       "      <td>Voice</td>\n",
       "      <td>56</td>\n",
       "      <td>2012-05-06 23:05:42.0</td>\n",
       "      <td>1</td>\n",
       "      <td>7370032e20f4e96</td>\n",
       "      <td>6af4a60e74c91d3</td>\n",
       "      <td>19e2e</td>\n",
       "      <td>19e2e</td>\n",
       "      <td>+cNeJzsTp3</td>\n",
       "      <td>+cNeJzsTp3</td>\n",
       "    </tr>\n",
       "    <tr>\n",
       "      <th>4</th>\n",
       "      <td>Voice</td>\n",
       "      <td>14</td>\n",
       "      <td>2012-05-06 23:06:29.0</td>\n",
       "      <td>1</td>\n",
       "      <td>966ba4656e38e62</td>\n",
       "      <td>02aa736ee555d5c</td>\n",
       "      <td>19e2e</td>\n",
       "      <td>19e2e</td>\n",
       "      <td>051KhYDCpv</td>\n",
       "      <td>051KhYDCpv</td>\n",
       "    </tr>\n",
       "  </tbody>\n",
       "</table>\n",
       "</div>"
      ],
      "text/plain": [
       "  PRODUCT  VALUE              DATE_TIME  CELL_ON_SITE  DW_A_NUMBER_INT  \\\n",
       "0   Voice      0  2012-05-06 23:04:37.0             1  49fae048b547780   \n",
       "1     SMS      0  2012-05-06 23:05:25.0             0  7a54a6eaee19e65   \n",
       "2     SMS     25  2012-05-06 23:05:41.0             0  6008887b0207d82   \n",
       "3   Voice     56  2012-05-06 23:05:42.0             1  7370032e20f4e96   \n",
       "4   Voice     14  2012-05-06 23:06:29.0             1  966ba4656e38e62   \n",
       "\n",
       "   DW_B_NUMBER_INT COUNTRY_A COUNTRY_B     CELL_ID     SITE_ID  \n",
       "0  1a49f8b0ded9de6     19e2e     19e2e  /TJNe+Mmtu  /TJNe+Mmtu  \n",
       "1  93343ba6e41af95     19e2e     19e2e  /+cKZKIp41  /+cKZKIp41  \n",
       "2  7aacc9709ce0a20     19e2e     19e2e  /u0FSD+ahi  /u0FSD+ahi  \n",
       "3  6af4a60e74c91d3     19e2e     19e2e  +cNeJzsTp3  +cNeJzsTp3  \n",
       "4  02aa736ee555d5c     19e2e     19e2e  051KhYDCpv  051KhYDCpv  "
      ]
     },
     "execution_count": 97,
     "metadata": {},
     "output_type": "execute_result"
    }
   ],
   "source": [
    "# Merging datasets\n",
    "\n",
    "telcom_all = pd.concat([telcom1, telcom2, telcom3], axis = 0, ignore_index=True)\n",
    "# Preview\n",
    "telcom_all.head()"
   ]
  },
  {
   "cell_type": "code",
   "execution_count": 98,
   "metadata": {},
   "outputs": [
    {
     "name": "stdout",
     "output_type": "stream",
     "text": [
      "<class 'pandas.core.frame.DataFrame'>\n",
      "RangeIndex: 12518 entries, 0 to 12517\n",
      "Data columns (total 10 columns):\n",
      " #   Column           Non-Null Count  Dtype \n",
      "---  ------           --------------  ----- \n",
      " 0   PRODUCT          12518 non-null  object\n",
      " 1   VALUE            12518 non-null  int64 \n",
      " 2   DATE_TIME        12518 non-null  object\n",
      " 3   CELL_ON_SITE     12518 non-null  int64 \n",
      " 4   DW_A_NUMBER_INT  12518 non-null  object\n",
      " 5   DW_B_NUMBER_INT  12518 non-null  object\n",
      " 6   COUNTRY_A        12518 non-null  object\n",
      " 7   COUNTRY_B        12518 non-null  object\n",
      " 8   CELL_ID          12518 non-null  object\n",
      " 9   SITE_ID          12518 non-null  object\n",
      "dtypes: int64(2), object(8)\n",
      "memory usage: 978.1+ KB\n"
     ]
    }
   ],
   "source": [
    "# Check information\n",
    "telcom_all.info()"
   ]
  }
 ],
 "metadata": {
  "interpreter": {
   "hash": "1e915f0a29dc84041eaeb02b7b1a21c440e37a87b61d44d5e84a515737dc82bc"
  },
  "kernelspec": {
   "display_name": "Python 3.8.3 64-bit ('base': conda)",
   "language": "python",
   "name": "python3"
  },
  "language_info": {
   "codemirror_mode": {
    "name": "ipython",
    "version": 3
   },
   "file_extension": ".py",
   "mimetype": "text/x-python",
   "name": "python",
   "nbconvert_exporter": "python",
   "pygments_lexer": "ipython3",
   "version": "3.8.3"
  },
  "orig_nbformat": 4
 },
 "nbformat": 4,
 "nbformat_minor": 2
}
